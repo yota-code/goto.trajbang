{
 "cells": [
  {
   "cell_type": "code",
   "execution_count": null,
   "id": "ea028eeb",
   "metadata": {},
   "outputs": [],
   "source": [
    "%matplotlib notebook\n",
    "\n",
    "import pyn.advanced_command as m"
   ]
  },
  {
   "cell_type": "markdown",
   "id": "ea0b1b5f",
   "metadata": {},
   "source": [
    "Bonjour,\n",
    "\n",
    "Je voulais prendre quelques minutes pour vous présenter ceci. J'espère pouvoir en discuter de vive voix avec Nicolas à la rentrée... mais en attendant, je voulais un petit support, le voilà. De votre réponse dépendra les limites à imposer à la dynamique du `PFCP`, pour chacun des axes.\n",
    "\n",
    "## Introduction\n",
    "\n",
    "Entre l'`UPMV` (la navigation) et le `PFCP` (le contrôle) transitent des commandes de haut niveau: Psi, Vz, IAS, etc. et je reste convaincu que c'est la meilleure façon de procéder :\n",
    "\n",
    "* parce que cela permet un bon niveau d'abstraction et cela facilite l'introduction de limitations côté PFCP qui sécurisent la partie contrôle.\n",
    "* parce que piloter des ordres de plus bas niveau pose d'autres problèmes, avec des boucles de feeback en oignon (d'autant plus génantes que les deux logiciels tournent ici sur des plateformes différentes)\n",
    "\n",
    "Ce choix fait cependant apparaître un paradoxe alors que je cherchais à suivre des trajectoires suffisamment précises pour respecter nos contraintes (corridors, etc.). Je vais essayer d'en exposer les tenants et les aboutissants, puisque que ce problème pourrait se poser dans tout autre système basé sur des ordres de haut niveau.\n",
    "\n",
    "## La boucle complète\n",
    "\n",
    "![loop upmv + pfcp](img/full_loop.png)\n",
    "\n",
    "Je prendrais ici quelques hypothèses quant à la composition et l'organisation de votre système, si elles s'avères légèrement fausses, veuillez m'en excuser, les conclusions devraient cependant rester valides.\n",
    "\n",
    "Par exemple, je suppose que $X_{ref}$, $\\dot X_{ref}$ et, éventuellement, $\\ddot X_{ref}$ sont présents à l'entrée du feedforward.\n",
    "\n",
    "## Gestion des limitations\n",
    "Je suppose également que les limitations agréées entre nous sont appliquées au niveau d'un générateur de trajectoire. Et l'hypothèse est faite qu'il s'agit d'un filtre d'ordre 2 du genre décrit ci-dessous, muni d'une saturation avant $\\ddot X_{ref}$ et d'une autre avant $\\dot X_{ref}$ :\n",
    "\n",
    "![saturated filter](img/second_order_trajectory.png)\n",
    "\n",
    "Voici une illustration de ce type de filtre (avec `Xref filtered` la réponse du filtre classique du second ordre et `Xref saturated` la réponse du même filtre avec les saturations activées)."
   ]
  },
  {
   "cell_type": "code",
   "execution_count": null,
   "id": "a31ad020",
   "metadata": {},
   "outputs": [],
   "source": [
    "m.saturated_filter_demo()"
   ]
  },
  {
   "cell_type": "markdown",
   "id": "e27ba819",
   "metadata": {},
   "source": [
    "## Filtrage des trajectoires\n",
    "\n",
    "Même dans le cas ou l'`UPMV` générerait une commande qui respecte parfaitement les limites agréées (en utilisant par exemple le même type de filtre), on constate qu'un retard non négligeable est introduit entre `Xcom` et `Xref`.\n",
    "\n",
    "Dans l'example qui suit, les paramètres du générateur de trajectoire du `PCFP` ont été figés sur `epsilon = 0.8`, `omega0 = 10.0`, `sat1 = 3.0` et `sat2 = 60.0`. Les paramètres de l'UPMV sont initialisé sous ces même conditions mais sont ajustables.\n",
    "\n",
    "L'erreur de commande, celle qui doit être rattrappée par le feedback de l'`UPMV` correspond à l'aire entre les deux courbes. On peut aisément constater que même en réduisant la dynamique de `Xcom` cette erreur change peu et reste importante.\n",
    "\n",
    "La raison principale de ce phénomène est que le générateur de trajectoire n'a aucune connaissance du fait que la commande n'est pas en régime établi (avec une dérivée nulle) mais est en fait en pleine transition.\n",
    "\n",
    "En pointillé, on peut voir les trajectoire que l'on obtiendrai si au point courant, le régime établit était atteint. Et on peut voir que la réponse $X_ref$ avant ce point est exactement supperposable à la réponse complète du filtre."
   ]
  },
  {
   "cell_type": "code",
   "execution_count": null,
   "id": "23ba1680",
   "metadata": {},
   "outputs": [],
   "source": [
    "m.successive_filter_demo()"
   ]
  },
  {
   "cell_type": "markdown",
   "id": "d839e615",
   "metadata": {},
   "source": [
    "## Le paradoxe\n",
    "\n",
    "Alors que je faisais des essais, j'ai modifié mes ordres envoyés au PFCP afin de prendre encore plus de marge vis-à-vis des limites agréées, mais comme vous avez pu le constater en jouant avec les sliders ci-dessus, cela n'a que peu d'impact sur l'aire totale entre les deux courbes. Dans le cas du Psi, cette aire représentant l'erreur de trajectoire au sein du corridor (sans tenir compte du feedback).\n",
    "\n",
    "Le paradoxe est le suivant:\n",
    "\n",
    "* quelle que soit la dynamique, on peut toujours trouver une trajectoire qui respecte les limites agréées et qui reste dans le corridor (au prix, éventullement, d'une vitesse de déplacement plus faible)\n",
    "* encore mieux ! plus la dynamique est faible plus j'ai l'assurance que l'erreur entre `Xref` et `Xmes` sera faible (puisque la dynamique de l'hélicoptère reste la même, plus les commandes seront limitées, plus le système sera en mesure de les respecter)\n",
    "* mais plus le retard imposé le générateur de trajectoire du `PFCP` augmente (et moins il reste de marge pour le corriger avec le feedback de l'`UPMV`)\n",
    "\n",
    "Alors que la partie contrôle est de plus en plus précise avec la baisse de dynamique, la partie navigation l'est de moins en moins."
   ]
  },
  {
   "cell_type": "markdown",
   "id": "076fb64c",
   "metadata": {},
   "source": [
    "## Quelques possibilités\n",
    "\n",
    "Les propositions les plus intéressantes tournent toutes autour du même principe : s'assurer que, d'une façon ou d'une autre, soit pris en compte le fait que la commande n'est pas en régime établi.\n",
    "\n",
    "La pire solution serait de revenir à des ordres de plus bas niveau: Phi plutôt que Psi, Theta plutôt que Vx ou Ias. Je pense que ça apporterait d'autres problèmes tout aussi sensibles.\n",
    "\n",
    "La solutions idéale serait, pour moi, de modifier votre générateur de trajectoire pour qu'il accepte de prendre en entrée $X_{com}$ et $\\dot{X}_{com}$. Ceci suffirait à faire disparaître ce retard de boucle. _(Personnelement c'est ce que j'utilise, un générateur de trajectoire qui accèpte les dérivées et offre tout de même des limitations sur $\\dot X_{ref}$ et $\\ddot X_{ref}$)_\n",
    "\n",
    "Une autre solution, qui pourrait être un intermédiaire de test, consisterait à brancher les commandes provenant de l'`UPMV` en entrée du feedforward directement (avec une éventuelle limitations simple sur les commandes et leurs dérivées)"
   ]
  },
  {
   "cell_type": "code",
   "execution_count": null,
   "id": "b411c20f",
   "metadata": {},
   "outputs": [],
   "source": []
  }
 ],
 "metadata": {
  "kernelspec": {
   "display_name": "Python 3",
   "language": "python",
   "name": "python3"
  },
  "language_info": {
   "codemirror_mode": {
    "name": "ipython",
    "version": 3
   },
   "file_extension": ".py",
   "mimetype": "text/x-python",
   "name": "python",
   "nbconvert_exporter": "python",
   "pygments_lexer": "ipython3",
   "version": "3.8.10"
  }
 },
 "nbformat": 4,
 "nbformat_minor": 5
}
