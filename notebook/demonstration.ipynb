{
 "cells": [
  {
   "source": [
    "# Tranjbanj3"
   ],
   "cell_type": "markdown",
   "metadata": {}
  },
  {
   "cell_type": "code",
   "execution_count": 225,
   "metadata": {},
   "outputs": [],
   "source": [
    "import math\n",
    "\n",
    "import IPython.display\n",
    "import sympy\n",
    "\n",
    "sympy.init_printing()\n",
    "\n",
    "Jm, Am, A0, S0, Sg = sympy.symbols('J_m A_m A_0 S_0 S_g')\n",
    "\n",
    "def equation(n) :\n",
    "\n",
    "    T = list()\n",
    "    J = list()\n",
    "    A = [sympy.symbols('A_0'),]\n",
    "    S = [sympy.symbols('S_0'),]\n",
    "    \n",
    "    for i in range(n) :\n",
    "        T.append(sympy.symbols(f\"T_{i}\"))\n",
    "        J.append(sympy.symbols(f\"J_{i}\"))\n",
    "        A.append( (A[-1] + J[i] * T[i]).simplify() )\n",
    "        S.append( (S[-1] + A[i] * T[i] + J[i] * T[i]**2 / 2).simplify() )\n",
    "       \n",
    "    return T, J, A, S\n",
    "\n",
    "def pf(exp, sub_lst) :\n",
    "    IPython.display.display(\n",
    "        IPython.display.Math(' = '.join(\n",
    "            (\n",
    "                str(e) if isinstance(e, str) else sympy.latex(e)\n",
    "            ) for e in e_lst ))\n",
    "    )\n",
    "\n",
    "def dbg(* e_lst) :\n",
    "    IPython.display.display(\n",
    "        IPython.display.Math(' = '.join(\n",
    "            (\n",
    "                str(e) if isinstance(e, str) else sympy.latex(e)\n",
    "            ) for e in e_lst ))\n",
    "    )"
   ]
  },
  {
   "source": [
    "## One Step"
   ],
   "cell_type": "markdown",
   "metadata": {}
  },
  {
   "cell_type": "code",
   "execution_count": 226,
   "metadata": {},
   "outputs": [],
   "source": [
    "T, J, A, S = equation(1)\n",
    "k = sympy.symbols('k')\n",
    "c = {'J_0': k*Jm, 'J_1': -k*Jm}"
   ]
  },
  {
   "cell_type": "code",
   "execution_count": 227,
   "metadata": {},
   "outputs": [
    {
     "output_type": "display_data",
     "data": {
      "text/plain": "<IPython.core.display.Math object>",
      "text/latex": "$\\displaystyle S_1 = A_{0} T_{0} + \\frac{J_{m} T_{0}^{2} k}{2} + S_{0}$"
     },
     "metadata": {}
    }
   ],
   "source": [
    "S1_equ = S[1].subs(c)\n",
    "dbg('S_1', S1_equ)"
   ]
  },
  {
   "cell_type": "code",
   "execution_count": 228,
   "metadata": {},
   "outputs": [
    {
     "output_type": "display_data",
     "data": {
      "text/plain": "<IPython.core.display.Math object>",
      "text/latex": "$\\displaystyle A_1 = A_{0} + J_{m} T_{0} k$"
     },
     "metadata": {}
    }
   ],
   "source": [
    "A1_equ = A[1].subs(c)\n",
    "dbg('A_1', A1_equ)"
   ]
  },
  {
   "source": [
    "We can first solve the $T_0$ which satisfy the condition on $A_1$"
   ],
   "cell_type": "markdown",
   "metadata": {}
  },
  {
   "cell_type": "code",
   "execution_count": 229,
   "metadata": {},
   "outputs": [
    {
     "output_type": "display_data",
     "data": {
      "text/plain": "<IPython.core.display.Math object>",
      "text/latex": "$\\displaystyle T_0 = - \\frac{A_{0}}{J_{m} k}$"
     },
     "metadata": {}
    }
   ],
   "source": [
    "r1, = sympy.solve(sympy.Eq(A1_equ, 0), 'T_0')\n",
    "dbg('T_0', r1)"
   ]
  },
  {
   "source": [
    "Then deduce the only value of $S_g$ which is compatible with a single step solution"
   ],
   "cell_type": "markdown",
   "metadata": {}
  },
  {
   "cell_type": "code",
   "execution_count": 230,
   "metadata": {},
   "outputs": [
    {
     "output_type": "display_data",
     "data": {
      "text/plain": "<IPython.core.display.Math object>",
      "text/latex": "$\\displaystyle S_g = - \\frac{A_{0}^{2}}{2 J_{m} k} + S_{0}$"
     },
     "metadata": {}
    }
   ],
   "source": [
    "dbg('S_g', S[1].subs(c).subs({'T_0': r1}))\n"
   ]
  },
  {
   "source": [
    "The sign of $k$ is also the sign of $S_0 - S_g$"
   ],
   "cell_type": "markdown",
   "metadata": {}
  },
  {
   "source": [
    "## Two steps"
   ],
   "cell_type": "markdown",
   "metadata": {}
  },
  {
   "cell_type": "code",
   "execution_count": 231,
   "metadata": {},
   "outputs": [],
   "source": [
    "T, J, A, S = equation(2)\n",
    "k = sympy.symbols('k')\n",
    "c = {'J_0': k*Jm, 'J_1': -k*Jm}"
   ]
  },
  {
   "cell_type": "code",
   "execution_count": 232,
   "metadata": {},
   "outputs": [
    {
     "output_type": "display_data",
     "data": {
      "text/plain": "<IPython.core.display.Math object>",
      "text/latex": "$\\displaystyle S_2 = A_{0} T_{0} + \\frac{J_{m} T_{0}^{2} k}{2} - \\frac{J_{m} T_{1}^{2} k}{2} + S_{0} + T_{1} \\left(A_{0} + J_{m} T_{0} k\\right)$"
     },
     "metadata": {}
    }
   ],
   "source": [
    "S2_equ = S[2].subs(c)\n",
    "dbg('S_2', S2_equ)"
   ]
  },
  {
   "cell_type": "code",
   "execution_count": 233,
   "metadata": {},
   "outputs": [
    {
     "output_type": "display_data",
     "data": {
      "text/plain": "<IPython.core.display.Math object>",
      "text/latex": "$\\displaystyle A_2 = A_{0} + J_{m} T_{0} k - J_{m} T_{1} k$"
     },
     "metadata": {}
    }
   ],
   "source": [
    "A2_equ = A[2].subs(c)\n",
    "dbg('A_2', A2_equ)"
   ]
  },
  {
   "source": [
    "The two following conditions must be met: $S_2 = S_g$ and $A_1 = 0$"
   ],
   "cell_type": "markdown",
   "metadata": {}
  },
  {
   "cell_type": "code",
   "execution_count": 234,
   "metadata": {},
   "outputs": [],
   "source": [
    "r2_1, r2_2 = sympy.solve([\n",
    "    sympy.Eq(S2_equ, Sg),\n",
    "    sympy.Eq(A2_equ, 0),\n",
    "], ['T_0', 'T_1'])"
   ]
  },
  {
   "source": [
    "### First Solution"
   ],
   "cell_type": "markdown",
   "metadata": {}
  },
  {
   "cell_type": "code",
   "execution_count": 235,
   "metadata": {},
   "outputs": [
    {
     "output_type": "display_data",
     "data": {
      "text/plain": "<IPython.core.display.Math object>",
      "text/latex": "$\\displaystyle T_0 = \\frac{- A_{0} - \\sqrt{\\frac{A_{0}^{2}}{2} - J_{m} S_{0} k + J_{m} S_{g} k}}{J_{m} k}$"
     },
     "metadata": {}
    },
    {
     "output_type": "display_data",
     "data": {
      "text/plain": "<IPython.core.display.Math object>",
      "text/latex": "$\\displaystyle T_1 = - \\frac{\\sqrt{\\frac{A_{0}^{2}}{2} - J_{m} S_{0} k + J_{m} S_{g} k}}{J_{m} k}$"
     },
     "metadata": {}
    }
   ],
   "source": [
    "s2_1 = {f'T_{n}' : s for n, s in enumerate(r2_1)}\n",
    "dbg('T_0', s2_1['T_0'])\n",
    "dbg('T_1', s2_1['T_1'])"
   ]
  },
  {
   "cell_type": "code",
   "execution_count": 236,
   "metadata": {},
   "outputs": [
    {
     "output_type": "display_data",
     "data": {
      "text/plain": "<IPython.core.display.Math object>",
      "text/latex": "$\\displaystyle A_1 = - \\sqrt{\\frac{A_{0}^{2}}{2} + J_{m} k \\left(- S_{0} + S_{g}\\right)}$"
     },
     "metadata": {}
    }
   ],
   "source": [
    "dbg('A_1', A[1].subs(c).subs(s2_1).collect(k*Jm))"
   ]
  },
  {
   "source": [
    "### Second Solution"
   ],
   "cell_type": "markdown",
   "metadata": {}
  },
  {
   "cell_type": "code",
   "execution_count": 237,
   "metadata": {},
   "outputs": [
    {
     "output_type": "display_data",
     "data": {
      "text/plain": "<IPython.core.display.Math object>",
      "text/latex": "$\\displaystyle T_0 = \\frac{- A_{0} + \\sqrt{\\frac{A_{0}^{2}}{2} - J_{m} S_{0} k + J_{m} S_{g} k}}{J_{m} k}$"
     },
     "metadata": {}
    },
    {
     "output_type": "display_data",
     "data": {
      "text/plain": "<IPython.core.display.Math object>",
      "text/latex": "$\\displaystyle T_1 = \\frac{\\sqrt{\\frac{A_{0}^{2}}{2} - J_{m} S_{0} k + J_{m} S_{g} k}}{J_{m} k}$"
     },
     "metadata": {}
    }
   ],
   "source": [
    "s2_2 = {f'T_{n}' : s for n, s in enumerate(r2_2)}\n",
    "dbg('T_0', s2_2['T_0'])\n",
    "dbg('T_1', s2_2['T_1'])"
   ]
  },
  {
   "cell_type": "code",
   "execution_count": 238,
   "metadata": {},
   "outputs": [
    {
     "output_type": "display_data",
     "data": {
      "text/plain": "<IPython.core.display.Math object>",
      "text/latex": "$\\displaystyle A_1 = \\sqrt{\\frac{A_{0}^{2}}{2} + J_{m} k \\left(- S_{0} + S_{g}\\right)}$"
     },
     "metadata": {}
    }
   ],
   "source": [
    "dbg('A_1', A[1].subs(c).subs(s2_2).collect(k*Jm))"
   ]
  },
  {
   "source": [
    "The solutions proposed are valid only under the following conditions :\n",
    "\n",
    "* $0 \\leq \\frac{A_0^2}{2} - k J_m (S_g - S_0)$\n",
    "* $0 \\leq T_0$\n",
    "* $0 \\leq T_1$\n",
    "* $-J_m \\leq A_1 \\leq J_m$"
   ],
   "cell_type": "markdown",
   "metadata": {}
  },
  {
   "cell_type": "code",
   "execution_count": 239,
   "metadata": {},
   "outputs": [
    {
     "output_type": "display_data",
     "data": {
      "text/plain": "<IPython.core.display.Math object>",
      "text/latex": "$\\displaystyle \\Delta = \\frac{A_{0}^{2}}{2} + J_{m} k \\left(- S_{0} + S_{g}\\right)$"
     },
     "metadata": {}
    }
   ],
   "source": [
    "dq = (A0**2/2) + k*Jm*(Sg - S0)\n",
    "dbg('\\Delta', dq)"
   ]
  },
  {
   "source": [
    "## Three steps"
   ],
   "cell_type": "markdown",
   "metadata": {}
  },
  {
   "cell_type": "code",
   "execution_count": 240,
   "metadata": {},
   "outputs": [],
   "source": [
    "val = { 'J_m': 1, 'A_m': 2, 'A_0': -2, 'S_0': 0, 'S_g': 1, }\n",
    "d = (A0**2/2) + k*Jm*(Sg - S0)"
   ]
  },
  {
   "cell_type": "code",
   "execution_count": 241,
   "metadata": {},
   "outputs": [
    {
     "output_type": "display_data",
     "data": {
      "text/plain": "<IPython.core.display.Math object>",
      "text/latex": "$\\displaystyle dn = \\frac{A_{0}^{2}}{2} - J_{m} \\left(- S_{0} + S_{g}\\right) = 1$"
     },
     "metadata": {}
    }
   ],
   "source": [
    "dn = d.subs({'k': -1})\n",
    "dbg('dn', dn, dn.subs(val))"
   ]
  },
  {
   "cell_type": "code",
   "execution_count": 242,
   "metadata": {},
   "outputs": [
    {
     "output_type": "display_data",
     "data": {
      "text/plain": "<IPython.core.display.Math object>",
      "text/latex": "$\\displaystyle qn = \\sqrt{\\frac{A_{0}^{2}}{2} - J_{m} \\left(- S_{0} + S_{g}\\right)} = 1$"
     },
     "metadata": {}
    }
   ],
   "source": [
    "qn = sympy.sqrt(d).subs({'k': -1})\n",
    "dbg('qn', qn, qn.subs(val))"
   ]
  },
  {
   "cell_type": "code",
   "execution_count": null,
   "metadata": {},
   "outputs": [],
   "source": []
  }
 ],
 "metadata": {
  "kernelspec": {
   "display_name": "Python 3",
   "language": "python",
   "name": "python3"
  },
  "language_info": {
   "codemirror_mode": {
    "name": "ipython",
    "version": 3
   },
   "file_extension": ".py",
   "mimetype": "text/x-python",
   "name": "python",
   "nbconvert_exporter": "python",
   "pygments_lexer": "ipython3",
   "version": "3.8.5-final"
  }
 },
 "nbformat": 4,
 "nbformat_minor": 4
}