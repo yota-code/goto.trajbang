{
 "cells": [
  {
   "source": [
    "# Tranjbanj3"
   ],
   "cell_type": "markdown",
   "metadata": {}
  },
  {
   "cell_type": "code",
   "execution_count": 359,
   "metadata": {},
   "outputs": [],
   "source": [
    "import math\n",
    "\n",
    "import IPython.display\n",
    "import sympy\n",
    "\n",
    "sympy.init_printing()\n",
    "\n",
    "Jm, Am, A0, S0, Sg = sympy.symbols('J_m A_m A_0 S_0 S_g')\n",
    "\n",
    "def equation(n) :\n",
    "\n",
    "    T = list()\n",
    "    J = list()\n",
    "    A = [sympy.symbols('A_0'),]\n",
    "    S = [sympy.symbols('S_0'),]\n",
    "    \n",
    "    for i in range(n) :\n",
    "        T.append(sympy.symbols(f\"T_{i}\"))\n",
    "        J.append(sympy.symbols(f\"J_{i}\"))\n",
    "        A.append( (A[-1] + J[i] * T[i]).simplify() )\n",
    "        S.append( (S[-1] + A[i] * T[i] + J[i] * T[i]**2 / 2).simplify() )\n",
    "       \n",
    "    return T, J, A, S\n",
    "\n",
    "def pf(exp, sub_lst) :\n",
    "    IPython.display.display(\n",
    "        IPython.display.Math(' = '.join(\n",
    "            (\n",
    "                str(e) if isinstance(e, str) else sympy.latex(e)\n",
    "            ) for e in e_lst ))\n",
    "    )\n",
    "\n",
    "def dbg(* e_lst) :\n",
    "    IPython.display.display(\n",
    "        IPython.display.Math(' = '.join(\n",
    "            (\n",
    "                str(e) if isinstance(e, str) else sympy.latex(e)\n",
    "            ) for e in e_lst ))\n",
    "    )"
   ]
  },
  {
   "source": [
    "## One Step"
   ],
   "cell_type": "markdown",
   "metadata": {}
  },
  {
   "cell_type": "code",
   "execution_count": 360,
   "metadata": {},
   "outputs": [],
   "source": [
    "T, J, A, S = equation(1)\n",
    "k = sympy.symbols('k')\n",
    "c = {'J_0': k*Jm, 'J_1': -k*Jm}"
   ]
  },
  {
   "cell_type": "code",
   "execution_count": 361,
   "metadata": {},
   "outputs": [
    {
     "output_type": "display_data",
     "data": {
      "text/plain": "<IPython.core.display.Math object>",
      "text/latex": "$\\displaystyle S_1 = A_{0} T_{0} + \\frac{J_{m} T_{0}^{2} k}{2} + S_{0}$"
     },
     "metadata": {}
    }
   ],
   "source": [
    "S1_equ = S[1].subs(c)\n",
    "dbg('S_1', S1_equ)"
   ]
  },
  {
   "cell_type": "code",
   "execution_count": 362,
   "metadata": {},
   "outputs": [
    {
     "output_type": "display_data",
     "data": {
      "text/plain": "<IPython.core.display.Math object>",
      "text/latex": "$\\displaystyle A_1 = A_{0} + J_{m} T_{0} k$"
     },
     "metadata": {}
    }
   ],
   "source": [
    "A1_equ = A[1].subs(c)\n",
    "dbg('A_1', A1_equ)"
   ]
  },
  {
   "source": [
    "We can first solve the $T_0$ which satisfy the condition on $A_1$"
   ],
   "cell_type": "markdown",
   "metadata": {}
  },
  {
   "cell_type": "code",
   "execution_count": 363,
   "metadata": {},
   "outputs": [
    {
     "output_type": "display_data",
     "data": {
      "text/plain": "<IPython.core.display.Math object>",
      "text/latex": "$\\displaystyle T_0 = - \\frac{A_{0}}{J_{m} k}$"
     },
     "metadata": {}
    }
   ],
   "source": [
    "r1, = sympy.solve(sympy.Eq(A1_equ, 0), 'T_0')\n",
    "dbg('T_0', r1)"
   ]
  },
  {
   "source": [
    "Then deduce the only value of $S_g$ which is compatible with a single step solution"
   ],
   "cell_type": "markdown",
   "metadata": {}
  },
  {
   "cell_type": "code",
   "execution_count": 364,
   "metadata": {},
   "outputs": [
    {
     "output_type": "display_data",
     "data": {
      "text/plain": "<IPython.core.display.Math object>",
      "text/latex": "$\\displaystyle S_g = - \\frac{A_{0}^{2}}{2 J_{m} k} + S_{0}$"
     },
     "metadata": {}
    }
   ],
   "source": [
    "dbg('S_g', S[1].subs(c).subs({'T_0': r1}))\n"
   ]
  },
  {
   "source": [
    "The sign of $k$ is also the sign of $S_0 - S_g$"
   ],
   "cell_type": "markdown",
   "metadata": {}
  },
  {
   "source": [
    "## Two steps"
   ],
   "cell_type": "markdown",
   "metadata": {}
  },
  {
   "cell_type": "code",
   "execution_count": 365,
   "metadata": {},
   "outputs": [],
   "source": [
    "T, J, A, S = equation(2)\n",
    "k = sympy.symbols('k')\n",
    "c = {'J_0': k*Jm, 'J_1': -k*Jm}"
   ]
  },
  {
   "cell_type": "code",
   "execution_count": 366,
   "metadata": {},
   "outputs": [
    {
     "output_type": "display_data",
     "data": {
      "text/plain": "<IPython.core.display.Math object>",
      "text/latex": "$\\displaystyle S_2 = A_{0} T_{0} + \\frac{J_{m} T_{0}^{2} k}{2} - \\frac{J_{m} T_{1}^{2} k}{2} + S_{0} + T_{1} \\left(A_{0} + J_{m} T_{0} k\\right)$"
     },
     "metadata": {}
    }
   ],
   "source": [
    "S2_equ = S[2].subs(c)\n",
    "dbg('S_2', S2_equ)"
   ]
  },
  {
   "cell_type": "code",
   "execution_count": 367,
   "metadata": {},
   "outputs": [
    {
     "output_type": "display_data",
     "data": {
      "text/plain": "<IPython.core.display.Math object>",
      "text/latex": "$\\displaystyle A_2 = A_{0} + J_{m} T_{0} k - J_{m} T_{1} k$"
     },
     "metadata": {}
    }
   ],
   "source": [
    "A2_equ = A[2].subs(c)\n",
    "dbg('A_2', A2_equ)"
   ]
  },
  {
   "source": [
    "The two following conditions must be met: $S_2 = S_g$ and $A_1 = 0$"
   ],
   "cell_type": "markdown",
   "metadata": {}
  },
  {
   "cell_type": "code",
   "execution_count": 368,
   "metadata": {},
   "outputs": [],
   "source": [
    "r2_1, r2_2 = sympy.solve([\n",
    "    sympy.Eq(S2_equ, Sg),\n",
    "    sympy.Eq(A2_equ, 0),\n",
    "], ['T_0', 'T_1'])"
   ]
  },
  {
   "source": [
    "### First Solution"
   ],
   "cell_type": "markdown",
   "metadata": {}
  },
  {
   "cell_type": "code",
   "execution_count": 369,
   "metadata": {},
   "outputs": [
    {
     "output_type": "display_data",
     "data": {
      "text/plain": "<IPython.core.display.Math object>",
      "text/latex": "$\\displaystyle T_0 = \\frac{- A_{0} - \\sqrt{\\frac{A_{0}^{2}}{2} - J_{m} S_{0} k + J_{m} S_{g} k}}{J_{m} k}$"
     },
     "metadata": {}
    },
    {
     "output_type": "display_data",
     "data": {
      "text/plain": "<IPython.core.display.Math object>",
      "text/latex": "$\\displaystyle T_1 = - \\frac{\\sqrt{\\frac{A_{0}^{2}}{2} - J_{m} S_{0} k + J_{m} S_{g} k}}{J_{m} k}$"
     },
     "metadata": {}
    }
   ],
   "source": [
    "s2_1 = {f'T_{n}' : s for n, s in enumerate(r2_1)}\n",
    "dbg('T_0', s2_1['T_0'])\n",
    "dbg('T_1', s2_1['T_1'])"
   ]
  },
  {
   "cell_type": "code",
   "execution_count": 370,
   "metadata": {},
   "outputs": [
    {
     "output_type": "display_data",
     "data": {
      "text/plain": "<IPython.core.display.Math object>",
      "text/latex": "$\\displaystyle A_1 = - \\sqrt{\\frac{A_{0}^{2}}{2} + J_{m} k \\left(- S_{0} + S_{g}\\right)}$"
     },
     "metadata": {}
    }
   ],
   "source": [
    "dbg('A_1', A[1].subs(c).subs(s2_1).collect(k*Jm))"
   ]
  },
  {
   "source": [
    "### Second Solution"
   ],
   "cell_type": "markdown",
   "metadata": {}
  },
  {
   "cell_type": "code",
   "execution_count": 371,
   "metadata": {},
   "outputs": [
    {
     "output_type": "display_data",
     "data": {
      "text/plain": "<IPython.core.display.Math object>",
      "text/latex": "$\\displaystyle T_0 = \\frac{- A_{0} + \\sqrt{\\frac{A_{0}^{2}}{2} - J_{m} S_{0} k + J_{m} S_{g} k}}{J_{m} k}$"
     },
     "metadata": {}
    },
    {
     "output_type": "display_data",
     "data": {
      "text/plain": "<IPython.core.display.Math object>",
      "text/latex": "$\\displaystyle T_1 = \\frac{\\sqrt{\\frac{A_{0}^{2}}{2} - J_{m} S_{0} k + J_{m} S_{g} k}}{J_{m} k}$"
     },
     "metadata": {}
    }
   ],
   "source": [
    "s2_2 = {f'T_{n}' : s for n, s in enumerate(r2_2)}\n",
    "dbg('T_0', s2_2['T_0'])\n",
    "dbg('T_1', s2_2['T_1'])"
   ]
  },
  {
   "cell_type": "code",
   "execution_count": 372,
   "metadata": {},
   "outputs": [
    {
     "output_type": "display_data",
     "data": {
      "text/plain": "<IPython.core.display.Math object>",
      "text/latex": "$\\displaystyle A_1 = \\sqrt{\\frac{A_{0}^{2}}{2} + J_{m} k \\left(- S_{0} + S_{g}\\right)}$"
     },
     "metadata": {}
    }
   ],
   "source": [
    "dbg('A_1', A[1].subs(c).subs(s2_2).collect(k*Jm))"
   ]
  },
  {
   "source": [
    "The solutions proposed are valid only under the following conditions :\n",
    "\n",
    "* $0 \\leq \\frac{A_0^2}{2} - k J_m (S_g - S_0)$\n",
    "* $0 \\leq T_0$\n",
    "* $0 \\leq T_1$\n",
    "* $-J_m \\leq A_1 \\leq J_m$"
   ],
   "cell_type": "markdown",
   "metadata": {}
  },
  {
   "cell_type": "code",
   "execution_count": 373,
   "metadata": {},
   "outputs": [
    {
     "output_type": "display_data",
     "data": {
      "text/plain": "<IPython.core.display.Math object>",
      "text/latex": "$\\displaystyle \\Delta = \\frac{A_{0}^{2}}{2} + J_{m} k \\left(- S_{0} + S_{g}\\right)$"
     },
     "metadata": {}
    }
   ],
   "source": [
    "dq = (A0**2/2) + k*Jm*(Sg - S0)\n",
    "dbg('\\Delta', dq)"
   ]
  },
  {
   "source": [
    "## Three steps\n",
    "\n",
    "In three steps, the second stap is made at maximal acceleration / deceleration and jerk null.\n",
    "We will change a bit the equations to reflect that.\n",
    " "
   ],
   "cell_type": "markdown",
   "metadata": {}
  },
  {
   "cell_type": "code",
   "execution_count": 374,
   "metadata": {},
   "outputs": [],
   "source": [
    "Jm, Am, A0, S0, Sg = sympy.symbols('J_m A_m A_0 S_0 S_g')\n",
    "T0, T1, T2 = sympy.symbols('T_0 T_1 T_2')\n",
    "k0, k2 = sympy.symbols('k_0 k_2')\n"
   ]
  },
  {
   "source": [
    "\n",
    "### With maximal acceleration\n",
    "\n",
    "The equation for the speed is given by the area of the acceleration curve \n",
    "\n",
    "$$ S_0 + T_0 \\frac{A_0 + A_m}{2} + T_1 A_m + T_2 \\frac{A_m}{2} = S_g $$\n",
    "\n",
    "The Values for $T_0$ and $T_2$ can be computed from the acceleration values to be reached. $T_0$ is given by the time it takes to reach $A_m$ from $A_0$, and $T_2$ is given by the time it take to go from $A_m$ to $0$.\n",
    "\n",
    "$$ A_m - A_0 = T_0 J_m $$\n",
    "$$ -A_m = T_2 J_m $$\n",
    "\n"
   ],
   "cell_type": "markdown",
   "metadata": {}
  },
  {
   "cell_type": "code",
   "execution_count": 375,
   "metadata": {},
   "outputs": [
    {
     "output_type": "display_data",
     "data": {
      "text/plain": "<IPython.core.display.Math object>",
      "text/latex": "$\\displaystyle A_{m} T_{1} + \\frac{A_{m} T_{2}}{2} + S_{0} + \\frac{T_{0} \\left(A_{0} + A_{m}\\right)}{2} = S_{g}$"
     },
     "metadata": {}
    }
   ],
   "source": [
    "S_equ = sympy.Eq(S0 + T0*(A0 + Am)/2 + T1*Am + Am*T2/2, Sg)\n",
    "dbg(S_equ)"
   ]
  },
  {
   "source": [],
   "cell_type": "markdown",
   "metadata": {}
  },
  {
   "cell_type": "code",
   "execution_count": 386,
   "metadata": {},
   "outputs": [],
   "source": [
    "T0_sol = abs(Am - A0)/Jm"
   ]
  },
  {
   "cell_type": "code",
   "execution_count": 387,
   "metadata": {},
   "outputs": [],
   "source": [
    "T2_sol = Am/Jm"
   ]
  },
  {
   "cell_type": "code",
   "execution_count": 388,
   "metadata": {},
   "outputs": [
    {
     "output_type": "display_data",
     "data": {
      "text/plain": "<IPython.core.display.Math object>",
      "text/latex": "$\\displaystyle S_{g} = \\frac{A_{m}^{2} + 2 J_{m} \\left(A_{m} T_{1} + S_{0}\\right) + \\left(A_{0} + A_{m}\\right) \\left|{A_{0} - A_{m}}\\right|}{2 J_{m}}$"
     },
     "metadata": {}
    }
   ],
   "source": [
    "S_equT = S_equ.subs({'T_0': T0_sol, 'T_2': T2_sol}).simplify()\n",
    "dbg( S_equT )"
   ]
  },
  {
   "cell_type": "code",
   "execution_count": 392,
   "metadata": {},
   "outputs": [
    {
     "output_type": "display_data",
     "data": {
      "text/plain": "<IPython.core.display.Math object>",
      "text/latex": "$\\displaystyle T_1 = - \\frac{A_{0} \\left|{A_{0} - A_{m}}\\right| + A_{m} \\left(A_{m} + \\left|{A_{0} - A_{m}}\\right|\\right) + 2 J_{m} \\left(S_{0} - S_{g}\\right)}{2 A_{m} J_{m}}$"
     },
     "metadata": {}
    }
   ],
   "source": [
    "r3_1 = sympy.solve( S_equT , 'T_1')\n",
    "T1_sol = r3_1[0].simplify()\n",
    "dbg('T_1', T1_sol)\n"
   ]
  },
  {
   "cell_type": "code",
   "execution_count": 390,
   "metadata": {},
   "outputs": [
    {
     "output_type": "display_data",
     "data": {
      "text/plain": "<IPython.core.display.Math object>",
      "text/latex": "$\\displaystyle 1$"
     },
     "metadata": {}
    }
   ],
   "source": [
    "val = { 'J_m': 1, 'A_m': 2, 'A_0': 0,  'S_0': 0, 'S_g': 6, }\n",
    "\n",
    "dbg(T1_sol.subs(val))"
   ]
  },
  {
   "cell_type": "code",
   "execution_count": 391,
   "metadata": {},
   "outputs": [
    {
     "output_type": "display_data",
     "data": {
      "text/plain": "<IPython.core.display.Math object>",
      "text/latex": "$\\displaystyle 6 = 2 T_{1} + 4$"
     },
     "metadata": {}
    }
   ],
   "source": [
    "dbg( S_equT.subs(val) )"
   ]
  },
  {
   "cell_type": "code",
   "execution_count": 395,
   "metadata": {},
   "outputs": [],
   "source": [
    "T0 = (k * Am - A0) / Jm\n",
    "J0 = sympy.sign(k * Am - A0)\n",
    "S01 = T0*(A0)"
   ]
  },
  {
   "cell_type": "code",
   "execution_count": 396,
   "metadata": {},
   "outputs": [
    {
     "output_type": "execute_result",
     "data": {
      "text/plain": [
       "sign(-A₀ + Aₘ⋅k)"
      ],
      "image/png": "[encoded data removed]",
      "text/latex": "$\\displaystyle \\operatorname{sign}{\\left(- A_{0} + A_{m} k \\right)}$"
     },
     "metadata": {},
     "execution_count": 396
    }
   ],
   "source": []
  },
  {
   "cell_type": "code",
   "execution_count": null,
   "metadata": {},
   "outputs": [],
   "source": []
  }
 ],
 "metadata": {
  "kernelspec": {
   "display_name": "Python 3",
   "language": "python",
   "name": "python3"
  },
  "language_info": {
   "codemirror_mode": {
    "name": "ipython",
    "version": 3
   },
   "file_extension": ".py",
   "mimetype": "text/x-python",
   "name": "python",
   "nbconvert_exporter": "python",
   "pygments_lexer": "ipython3",
   "version": "3.8.5-final"
  }
 },
 "nbformat": 4,
 "nbformat_minor": 4
}