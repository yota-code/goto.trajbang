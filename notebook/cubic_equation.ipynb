{
 "cells": [
  {
   "cell_type": "code",
   "execution_count": null,
   "metadata": {},
   "outputs": [],
   "source": [
    "# https://en.wikipedia.org/wiki/Cubic_equation\n",
    "# https://brilliant.org/wiki/cardano-method/\n",
    "\n",
    "%matplotlib notebook\n",
    "\n",
    "import sympy\n",
    "import numpy as np\n",
    "import matplotlib.pyplot as plt"
   ]
  },
  {
   "cell_type": "code",
   "execution_count": null,
   "metadata": {},
   "outputs": [],
   "source": [
    "a, b, c, d, x = sympy.symbols('a b c d x')"
   ]
  },
  {
   "cell_type": "markdown",
   "metadata": {},
   "source": [
    "# From general to depressed\n",
    "\n",
    "The general formula:\n",
    "\n",
    "$$ a x^3 + b x^2 + c x + d = 0 $$\n",
    "\n",
    "Can be transformed into:\n",
    "\n",
    "$$ t^3 + p t + q = 0 $$\n",
    "\n",
    "with the variable change:\n",
    "\n",
    "$$ t = x + \\frac{b}{3 a} $$"
   ]
  },
  {
   "cell_type": "code",
   "execution_count": null,
   "metadata": {},
   "outputs": [],
   "source": [
    "e = b / (3*a)\n",
    "p = (3*a*c - b**2)/(3*a**2)\n",
    "q = (2*b**3 - 9*a*b*c + 27*a**2*d)/(27*a**3)\n",
    "m = ((3*q)/(2*p))*sympy.sqrt(-3/p)"
   ]
  },
  {
   "cell_type": "code",
   "execution_count": null,
   "metadata": {},
   "outputs": [],
   "source": [
    "z = - 4*p**3 - 27*q**2\n",
    "z.subs(p_map)"
   ]
  },
  {
   "cell_type": "code",
   "execution_count": null,
   "metadata": {},
   "outputs": [],
   "source": [
    "4*p**3 + 27*q**2"
   ]
  },
  {
   "cell_type": "code",
   "execution_count": null,
   "metadata": {},
   "outputs": [],
   "source": [
    "p_map = {'a': 1, 'b': -2, 'c': 0, 'd': 0} # mutliple solution\n",
    "p_map = {'a': -sympy.Rational(1, 6), 'b': 0, 'c': 10, 'd': -1} # mutliple solution\n",
    "#p_map = {'a': -1, 'b': 8, 'c': 8, 'd': -24} # three real\n",
    "#p_map = {'a': 1, 'b': -8, 'c': -8, 'd': 24} # three real\n",
    "#p_map = {'a': -1, 'b': 8, 'c': 8, 'd': 24} # one real\n",
    "#p_map = {'a': 1, 'b': -8, 'c': -8, 'd': -24} # one real\n",
    "#p_map = {'a': 8, 'b': 1, 'c': 8, 'd': -24} # three real\n",
    "#p_map = {'a': -8, 'b': -1, 'c': -8, 'd': 24} # three real"
   ]
  },
  {
   "cell_type": "code",
   "execution_count": null,
   "metadata": {},
   "outputs": [],
   "source": [
    "t_lst = [\n",
    "    2*sympy.sqrt(-p/3)*sympy.cos(sympy.acos( m )/3 - 2*sympy.pi*k/3) for k in range(3)\n",
    "]\n",
    "r_lst = [complex(sympy.N(t.subs(p_map))) for t in t_lst]\n",
    "r_lst"
   ]
  },
  {
   "cell_type": "code",
   "execution_count": null,
   "metadata": {},
   "outputs": [],
   "source": [
    "print(f\"\"\"p = {float(p.subs(p_map))}\n",
    "q = {float(q.subs(p_map))}\n",
    "m = {float((((3*q)/(2*p))*sympy.sqrt(-3/p)).subs(p_map))}\"\"\")"
   ]
  },
  {
   "cell_type": "code",
   "execution_count": null,
   "metadata": {},
   "outputs": [],
   "source": [
    "y_lst = list()\n",
    "x_lst = np.linspace(min(r.real for r in r_lst) - 1, max(r.real for r in r_lst) + 1, 512)\n",
    "for x_val in x_lst :\n",
    "    y_lst.append(float((a*x**3 + b*x**2 + c*x + d).subs(p_map).subs({'x': x_val})))\n",
    "y_lst = np.array(y_lst)\n",
    "t_lst"
   ]
  },
  {
   "cell_type": "code",
   "execution_count": null,
   "metadata": {},
   "outputs": [],
   "source": [
    "v_lst = [ complex(sympy.N((t_lst[i] - b/(3*a)).subs(p_map))) for i in range(3) ]\n",
    "v_lst"
   ]
  },
  {
   "cell_type": "code",
   "execution_count": null,
   "metadata": {},
   "outputs": [],
   "source": [
    "plt.figure()\n",
    "plt.plot(x_lst, y_lst)\n",
    "plt.plot([v.real for v in v_lst], [0.0, 0.0, 0.0], \"x\")\n",
    "plt.grid()\n",
    "plt.show()"
   ]
  },
  {
   "cell_type": "code",
   "execution_count": null,
   "metadata": {},
   "outputs": [],
   "source": [
    "cardano_sol = sympy.cbrt(-q/2 + sympy.sqrt(q**2/4 +p**3/27)) + sympy.cbrt(-q/2 - sympy.sqrt(q**2/4 + p**3/27)) - e\n",
    "cardano_sol"
   ]
  },
  {
   "cell_type": "code",
   "execution_count": null,
   "metadata": {},
   "outputs": [],
   "source": [
    "sympy.N(cardano_sol.subs(p_map))"
   ]
  },
  {
   "cell_type": "code",
   "execution_count": null,
   "metadata": {},
   "outputs": [],
   "source": [
    "sympy.N(sympy.cbrt(-q/2 - sympy.sqrt(q**2/4 +p**3/27)).subs(p_map))"
   ]
  },
  {
   "cell_type": "code",
   "execution_count": null,
   "metadata": {},
   "outputs": [],
   "source": [
    "p, q = sympy.symbols('p q')\n",
    "cardano_sol = sympy.cbrt(-q/2 + sympy.sqrt(q**2/4 +p**3/27)) + sympy.cbrt(-q/2 - sympy.sqrt(q**2/4 + p**3/27))\n",
    "cardano_sol"
   ]
  },
  {
   "cell_type": "code",
   "execution_count": null,
   "metadata": {},
   "outputs": [],
   "source": [
    "Q = (3*a*c - b**2)/(9*a**2)"
   ]
  },
  {
   "cell_type": "code",
   "execution_count": null,
   "metadata": {},
   "outputs": [],
   "source": [
    "R = (9*a*b*c - 27*a**2*d - 2*b**3)/(54*a**3)"
   ]
  },
  {
   "cell_type": "code",
   "execution_count": null,
   "metadata": {},
   "outputs": [],
   "source": [
    "sympy.N((Q**3 + R**2).simplify().subs(p_map))"
   ]
  },
  {
   "cell_type": "code",
   "execution_count": null,
   "metadata": {},
   "outputs": [],
   "source": [
    "Z = p**3/27 + q**2/4\n",
    "sympy.N(Z.subs(p_map))"
   ]
  },
  {
   "cell_type": "code",
   "execution_count": null,
   "metadata": {},
   "outputs": [],
   "source": [
    "x = sympy.symbols('x')"
   ]
  },
  {
   "cell_type": "code",
   "execution_count": null,
   "metadata": {},
   "outputs": [],
   "source": [
    "(x * x * (x - 2)).expand()"
   ]
  },
  {
   "cell_type": "code",
   "execution_count": null,
   "metadata": {},
   "outputs": [],
   "source": []
  }
 ],
 "metadata": {
  "kernelspec": {
   "display_name": "Python 3",
   "language": "python",
   "name": "python3"
  },
  "language_info": {
   "codemirror_mode": {
    "name": "ipython",
    "version": 3
   },
   "file_extension": ".py",
   "mimetype": "text/x-python",
   "name": "python",
   "nbconvert_exporter": "python",
   "pygments_lexer": "ipython3",
   "version": "3.8.10"
  }
 },
 "nbformat": 4,
 "nbformat_minor": 4
}
