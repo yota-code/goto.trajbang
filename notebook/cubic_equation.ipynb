{
 "cells": [
  {
   "cell_type": "code",
   "execution_count": 11,
   "metadata": {},
   "outputs": [],
   "source": [
    "# https://en.wikipedia.org/wiki/Cubic_equation\n",
    "# https://brilliant.org/wiki/cardano-method/\n",
    "\n",
    "%matplotlib notebook\n",
    "\n",
    "import sympy\n",
    "import numpy as np\n",
    "import matplotlib.pyplot as plt"
   ]
  },
  {
   "cell_type": "code",
   "execution_count": 12,
   "metadata": {},
   "outputs": [],
   "source": [
    "a, b, c, d, x, t, k = sympy.symbols('a b c d x t k')"
   ]
  },
  {
   "cell_type": "code",
   "execution_count": 13,
   "metadata": {},
   "outputs": [],
   "source": [
    "poly3_c = a*x**3 + b*x**2 + c*x * d "
   ]
  },
  {
   "cell_type": "markdown",
   "metadata": {},
   "source": [
    "# From general to depressed\n",
    "\n",
    "The general formula:\n",
    "\n",
    "$$ a x^3 + b x^2 + c x + d = 0 $$\n",
    "\n",
    "Can be transformed into:\n",
    "\n",
    "$$ t^3 + p t + q = 0 $$\n",
    "\n",
    "with the variable change:\n",
    "\n",
    "$$ t = x + \\frac{b}{3 a} $$\n",
    "\n",
    "where new coefficients are:\n",
    "$$ p = \\frac{3ac - b^2}{3a^2} $$\n",
    "$$ q = \\frac{2b^3 - 9abc + 27a^2d}{27*a^3} $$"
   ]
  },
  {
   "cell_type": "code",
   "execution_count": 14,
   "metadata": {},
   "outputs": [],
   "source": [
    "e = b / (3*a)"
   ]
  },
  {
   "cell_type": "code",
   "execution_count": 15,
   "metadata": {},
   "outputs": [],
   "source": [
    "p = (3*a*c - b**2)/(3*a**2)\n",
    "q = (2*b**3 - 9*a*b*c + 27*a**2*d)/(27*a**3)"
   ]
  },
  {
   "cell_type": "code",
   "execution_count": 18,
   "metadata": {},
   "outputs": [
    {
     "data": {
      "text/latex": [
       "$\\displaystyle x^{3} + \\frac{b x^{2}}{a} + \\frac{c x}{a} + \\frac{d}{a}$"
      ],
      "text/plain": [
       "x**3 + b*x**2/a + c*x/a + d/a"
      ]
     },
     "execution_count": 18,
     "metadata": {},
     "output_type": "execute_result"
    }
   ],
   "source": [
    "poly3_d = (t**3 + p*t + q).subs({'t': x + b / (3*a)})\n",
    "poly3_d.expand()"
   ]
  },
  {
   "cell_type": "markdown",
   "metadata": {},
   "source": [
    "### Example"
   ]
  },
  {
   "cell_type": "code",
   "execution_count": null,
   "metadata": {},
   "outputs": [],
   "source": [
    "p_map = {'a': 1, 'b': -2, 'c': 0, 'd': 0} # mutliple solution\n",
    "p_map = {'a': -sympy.Rational(1, 6), 'b': 0, 'c': 10, 'd': -1} # mutliple solution\n",
    "#p_map = {'a': -1, 'b': 8, 'c': 8, 'd': -24} # three real\n",
    "#p_map = {'a': 1, 'b': -8, 'c': -8, 'd': 24} # three real\n",
    "#p_map = {'a': -1, 'b': 8, 'c': 8, 'd': 24} # one real\n",
    "#p_map = {'a': 1, 'b': -8, 'c': -8, 'd': -24} # one real\n",
    "p_map = {'a': 16, 'b': 1, 'c': 4, 'd': -24} # three real\n",
    "#p_map = {'a': -8, 'b': -1, 'c': -8, 'd': 24} # three real\n",
    "#p_map = {'a': sympy.Rational(1, 12), 'b': 0, 'c': 45, 'd': -10}\n",
    "#p_map = {'a': -sympy.Rational(1, 12), 'b': 0, 'c': -45, 'd': 10}\n"
   ]
  },
  {
   "cell_type": "markdown",
   "metadata": {},
   "source": [
    "## Trigonometric solution [link](https://en.wikipedia.org/wiki/Cubic_equation#Trigonometric_solution_for_three_real_roots)\n",
    "\n",
    "If $ 4 p^3 + 27 q^2 < 0 $, then 3 real solutions exist. Else one is real and two complexes, but functions acting on complexes must be used to solve them (even the real one)."
   ]
  },
  {
   "cell_type": "code",
   "execution_count": null,
   "metadata": {},
   "outputs": [],
   "source": [
    "delta = 4*p**3 + 27*q**2\n",
    "delta"
   ]
  },
  {
   "cell_type": "code",
   "execution_count": null,
   "metadata": {},
   "outputs": [],
   "source": [
    "delta.subs(p_map)"
   ]
  },
  {
   "cell_type": "code",
   "execution_count": null,
   "metadata": {},
   "outputs": [],
   "source": [
    "m = ((3*q)/(2*p))*sympy.sqrt(-3/p)\n",
    "m"
   ]
  },
  {
   "cell_type": "code",
   "execution_count": null,
   "metadata": {},
   "outputs": [],
   "source": [
    "tk = 2*sympy.sqrt(-p/3)*sympy.cos( sympy.acos(m)/3 - 2*sympy.pi*k/3 )\n",
    "tk"
   ]
  },
  {
   "cell_type": "code",
   "execution_count": null,
   "metadata": {},
   "outputs": [],
   "source": [
    "t_lst = [ (tk.subs({'k': k})) for k in range(3) ]\n",
    "ttrig_0, ttrig_1, ttrig_2 = t_lst\n",
    "print(\"t_lst =\", [complex(sympy.N(t.subs(p_map))) for t in t_lst])"
   ]
  },
  {
   "cell_type": "code",
   "execution_count": null,
   "metadata": {},
   "outputs": [],
   "source": [
    "print(f\"\"\"p = {float(p.subs(p_map))}\n",
    "q = {complex(q.subs(p_map))}\n",
    "m = {complex((((3*q)/(2*p))*sympy.sqrt(-3/p)).subs(p_map))}\"\"\")"
   ]
  },
  {
   "cell_type": "code",
   "execution_count": null,
   "metadata": {},
   "outputs": [],
   "source": [
    "y_lst = list()\n",
    "x_lst = np.linspace(min(r.real for r in r_lst) - 2, max(r.real for r in r_lst) + 2, 512)\n",
    "for x_val in x_lst :\n",
    "    y_lst.append(float((a*x**3 + b*x**2 + c*x + d).subs(p_map).subs({'x': x_val})))\n",
    "y_lst = np.array(y_lst)\n",
    "t_lst"
   ]
  },
  {
   "cell_type": "code",
   "execution_count": null,
   "metadata": {},
   "outputs": [],
   "source": [
    "v_lst = [ complex(sympy.N((t_lst[i] - b/(3*a)).subs(p_map))) for i in range(3) ]\n",
    "v_lst"
   ]
  },
  {
   "cell_type": "code",
   "execution_count": null,
   "metadata": {},
   "outputs": [],
   "source": [
    "plt.figure()\n",
    "plt.plot(x_lst, y_lst)\n",
    "plt.plot([v.real for v in v_lst], [0.0, 0.0, 0.0], \"x\")\n",
    "plt.grid()\n",
    "plt.show()"
   ]
  },
  {
   "cell_type": "code",
   "execution_count": null,
   "metadata": {},
   "outputs": [],
   "source": [
    "cardano_sol = sympy.cbrt(-q/2 + sympy.sqrt(q**2/4 +p**3/27)) + sympy.cbrt(-q/2 - sympy.sqrt(q**2/4 + p**3/27)) - e\n",
    "cardano_sol"
   ]
  },
  {
   "cell_type": "code",
   "execution_count": null,
   "metadata": {},
   "outputs": [],
   "source": [
    "sympy.N(cardano_sol.subs(p_map))"
   ]
  },
  {
   "cell_type": "code",
   "execution_count": null,
   "metadata": {},
   "outputs": [],
   "source": [
    "sympy.N(sympy.cbrt(-q/2 - sympy.sqrt(q**2/4 +p**3/27)).subs(p_map))"
   ]
  },
  {
   "cell_type": "code",
   "execution_count": null,
   "metadata": {},
   "outputs": [],
   "source": [
    "p, q = sympy.symbols('p q')\n",
    "cardano_sol = sympy.cbrt(-q/2 + sympy.sqrt(q**2/4 +p**3/27)) + sympy.cbrt(-q/2 - sympy.sqrt(q**2/4 + p**3/27))\n",
    "cardano_sol"
   ]
  },
  {
   "cell_type": "code",
   "execution_count": null,
   "metadata": {},
   "outputs": [],
   "source": [
    "Q = (3*a*c - b**2)/(9*a**2)"
   ]
  },
  {
   "cell_type": "code",
   "execution_count": null,
   "metadata": {},
   "outputs": [],
   "source": [
    "R = (9*a*b*c - 27*a**2*d - 2*b**3)/(54*a**3)"
   ]
  },
  {
   "cell_type": "code",
   "execution_count": null,
   "metadata": {},
   "outputs": [],
   "source": [
    "sympy.N((Q**3 + R**2).simplify().subs(p_map))"
   ]
  },
  {
   "cell_type": "code",
   "execution_count": null,
   "metadata": {},
   "outputs": [],
   "source": [
    "Z = p**3/27 + q**2/4\n",
    "sympy.N(Z.subs(p_map))"
   ]
  },
  {
   "cell_type": "code",
   "execution_count": null,
   "metadata": {},
   "outputs": [],
   "source": [
    "x = sympy.symbols('x')"
   ]
  },
  {
   "cell_type": "code",
   "execution_count": null,
   "metadata": {},
   "outputs": [],
   "source": [
    "(x * x * (x - 2)).expand()"
   ]
  },
  {
   "cell_type": "markdown",
   "metadata": {},
   "source": [
    "### Vérification"
   ]
  },
  {
   "cell_type": "code",
   "execution_count": null,
   "metadata": {},
   "outputs": [],
   "source": [
    "sympy.N( poly3_d.subs({'t': ttrig_0}).subs(p_map) )"
   ]
  },
  {
   "cell_type": "code",
   "execution_count": null,
   "metadata": {},
   "outputs": [],
   "source": [
    "sympy.N( poly3_d.subs({'t': ttrig_1}).subs(p_map) )"
   ]
  },
  {
   "cell_type": "code",
   "execution_count": null,
   "metadata": {},
   "outputs": [],
   "source": [
    "sympy.N( poly3_d.subs({'t': ttrig_2}).subs(p_map) )"
   ]
  },
  {
   "cell_type": "markdown",
   "metadata": {},
   "source": [
    "## Cardano algebraic [link](https://en.wikipedia.org/wiki/Cubic_equation#Cardano's_formula)"
   ]
  },
  {
   "cell_type": "code",
   "execution_count": 92,
   "metadata": {},
   "outputs": [],
   "source": [
    "p_map = {'a': 1, 'b': -8, 'c': -1, 'd': 1} # three real"
   ]
  },
  {
   "cell_type": "code",
   "execution_count": 93,
   "metadata": {},
   "outputs": [
    {
     "data": {
      "text/latex": [
       "$\\displaystyle \\frac{4 \\left(3 a c - b^{2}\\right)^{3}}{27 a^{6}} + \\frac{\\left(27 a^{2} d - 9 a b c + 2 b^{3}\\right)^{2}}{27 a^{6}}$"
      ],
      "text/plain": [
       "4*(3*a*c - b**2)**3/(27*a**6) + (27*a**2*d - 9*a*b*c + 2*b**3)**2/(27*a**6)"
      ]
     },
     "execution_count": 93,
     "metadata": {},
     "output_type": "execute_result"
    }
   ],
   "source": [
    "delta = 4*p**3 + 27*q**2\n",
    "delta"
   ]
  },
  {
   "cell_type": "code",
   "execution_count": 94,
   "metadata": {},
   "outputs": [
    {
     "data": {
      "text/latex": [
       "$\\displaystyle -2233.0$"
      ],
      "text/plain": [
       "-2233.00000000000"
      ]
     },
     "execution_count": 94,
     "metadata": {},
     "output_type": "execute_result"
    }
   ],
   "source": [
    "sympy.N( delta.subs(p_map) )"
   ]
  },
  {
   "cell_type": "code",
   "execution_count": 95,
   "metadata": {},
   "outputs": [
    {
     "data": {
      "text/latex": [
       "$\\displaystyle \\frac{\\left(3 a c - b^{2}\\right)^{3}}{729 a^{6}} + \\frac{\\left(27 a^{2} d - 9 a b c + 2 b^{3}\\right)^{2}}{2916 a^{6}}$"
      ],
      "text/plain": [
       "(3*a*c - b**2)**3/(729*a**6) + (27*a**2*d - 9*a*b*c + 2*b**3)**2/(2916*a**6)"
      ]
     },
     "execution_count": 95,
     "metadata": {},
     "output_type": "execute_result"
    }
   ],
   "source": [
    "r_card = (q**2/4)+(p**3/27)\n",
    "r_card"
   ]
  },
  {
   "cell_type": "code",
   "execution_count": 96,
   "metadata": {},
   "outputs": [
    {
     "data": {
      "text/latex": [
       "$\\displaystyle -20.6759259259259$"
      ],
      "text/plain": [
       "-20.6759259259259"
      ]
     },
     "execution_count": 96,
     "metadata": {},
     "output_type": "execute_result"
    }
   ],
   "source": [
    "sympy.N( r_card.subs(p_map) )"
   ]
  },
  {
   "cell_type": "code",
   "execution_count": 97,
   "metadata": {},
   "outputs": [
    {
     "data": {
      "text/latex": [
       "$\\displaystyle \\sqrt{\\frac{\\left(3 a c - b^{2}\\right)^{3}}{729 a^{6}} + \\frac{\\left(27 a^{2} d - 9 a b c + 2 b^{3}\\right)^{2}}{2916 a^{6}}} - \\frac{27 a^{2} d - 9 a b c + 2 b^{3}}{54 a^{3}}$"
      ],
      "text/plain": [
       "sqrt((3*a*c - b**2)**3/(729*a**6) + (27*a**2*d - 9*a*b*c + 2*b**3)**2/(2916*a**6)) - (27*a**2*d - 9*a*b*c + 2*b**3)/(54*a**3)"
      ]
     },
     "execution_count": 97,
     "metadata": {},
     "output_type": "execute_result"
    }
   ],
   "source": [
    "m_card = (-q/2) + sympy.sqrt(r_card)\n",
    "m_card"
   ]
  },
  {
   "cell_type": "code",
   "execution_count": 119,
   "metadata": {},
   "outputs": [
    {
     "data": {
      "text/latex": [
       "$\\displaystyle 19.7962962962963 + 4.54707883436453 i$"
      ],
      "text/plain": [
       "19.7962962962963 + 4.54707883436453*I"
      ]
     },
     "execution_count": 119,
     "metadata": {},
     "output_type": "execute_result"
    }
   ],
   "source": [
    "sympy.N( m_card.subs(p_map) )"
   ]
  },
  {
   "cell_type": "code",
   "execution_count": 152,
   "metadata": {},
   "outputs": [
    {
     "data": {
      "text/latex": [
       "$\\displaystyle \\left(- \\frac{1}{2} + \\frac{\\sqrt{3} i}{2}\\right) \\sqrt[3]{\\sqrt{\\frac{\\left(3 a c - b^{2}\\right)^{3}}{729 a^{6}} + \\frac{\\left(27 a^{2} d - 9 a b c + 2 b^{3}\\right)^{2}}{2916 a^{6}}} - \\frac{27 a^{2} d - 9 a b c + 2 b^{3}}{54 a^{3}}}$"
      ],
      "text/plain": [
       "(-1/2 + sqrt(3)*I/2)*(sqrt((3*a*c - b**2)**3/(729*a**6) + (27*a**2*d - 9*a*b*c + 2*b**3)**2/(2916*a**6)) - (27*a**2*d - 9*a*b*c + 2*b**3)/(54*a**3))**(1/3)"
      ]
     },
     "execution_count": 152,
     "metadata": {},
     "output_type": "execute_result"
    }
   ],
   "source": [
    "C = sympy.cbrt(m_card)\n",
    "C"
   ]
  },
  {
   "cell_type": "code",
   "execution_count": 153,
   "metadata": {},
   "outputs": [
    {
     "data": {
      "text/latex": [
       "$\\displaystyle -1.53802625079184 + 2.25364586754877 i$"
      ],
      "text/plain": [
       "-1.53802625079184 + 2.25364586754877*I"
      ]
     },
     "execution_count": 153,
     "metadata": {},
     "output_type": "execute_result"
    }
   ],
   "source": [
    "sympy.N( C.subs(p_map) )"
   ]
  },
  {
   "cell_type": "code",
   "execution_count": 154,
   "metadata": {},
   "outputs": [
    {
     "data": {
      "text/latex": [
       "$\\displaystyle -0.409385834917007 + 1.0 \\cdot 10^{-22} i$"
      ],
      "text/plain": [
       "-0.409385834917007 + 0.e-22*I"
      ]
     },
     "execution_count": 154,
     "metadata": {},
     "output_type": "execute_result"
    }
   ],
   "source": [
    "tcard_0 = C - p/(3*C)\n",
    "sympy.N( (tcard_0 - e).subs(p_map) )"
   ]
  },
  {
   "cell_type": "code",
   "execution_count": 155,
   "metadata": {},
   "outputs": [
    {
     "data": {
      "text/latex": [
       "$\\displaystyle 0.301263772596393 - 1.0 \\cdot 10^{-22} i$"
      ],
      "text/plain": [
       "0.301263772596393 - 0.e-22*I"
      ]
     },
     "execution_count": 155,
     "metadata": {},
     "output_type": "execute_result"
    }
   ],
   "source": [
    "cbroot_p = (-1 + sympy.sqrt(-3))/2\n",
    "tcard_p = (C*cbroot_p) - p/(3*C*cbroot_p)\n",
    "sympy.N( (tcard_p - e).subs(p_map) )"
   ]
  },
  {
   "cell_type": "code",
   "execution_count": 157,
   "metadata": {},
   "outputs": [
    {
     "data": {
      "text/latex": [
       "$\\displaystyle - \\frac{1}{2} + \\frac{\\sqrt{3} i}{2}$"
      ],
      "text/plain": [
       "-1/2 + sqrt(3)*I/2"
      ]
     },
     "execution_count": 157,
     "metadata": {},
     "output_type": "execute_result"
    }
   ],
   "source": [
    "cbroot_p"
   ]
  },
  {
   "cell_type": "code",
   "execution_count": 156,
   "metadata": {},
   "outputs": [
    {
     "data": {
      "text/latex": [
       "$\\displaystyle 8.10812206232061 - 3.0 \\cdot 10^{-23} i$"
      ],
      "text/plain": [
       "8.10812206232061 - 0.e-23*I"
      ]
     },
     "execution_count": 156,
     "metadata": {},
     "output_type": "execute_result"
    }
   ],
   "source": [
    "cbroot_n = (-1 - sympy.sqrt(-3))/2\n",
    "tcard_n = (C*cbroot_n) - p/(3*C*cbroot_n)\n",
    "sympy.N( (tcard_n - e).subs(p_map) )"
   ]
  },
  {
   "cell_type": "markdown",
   "metadata": {},
   "source": [
    "### Vérification"
   ]
  },
  {
   "cell_type": "code",
   "execution_count": 149,
   "metadata": {},
   "outputs": [
    {
     "data": {
      "text/latex": [
       "$\\displaystyle 6.0 \\cdot 10^{-123} + 9.0 \\cdot 10^{-125} i$"
      ],
      "text/plain": [
       "0.e-122 + 0.e-124*I"
      ]
     },
     "execution_count": 149,
     "metadata": {},
     "output_type": "execute_result"
    }
   ],
   "source": [
    "vcard_0 = sympy.N( poly3_d.subs({'t': tcard_0}).subs(p_map) )\n",
    "vcard_0"
   ]
  },
  {
   "cell_type": "code",
   "execution_count": 150,
   "metadata": {},
   "outputs": [
    {
     "data": {
      "text/latex": [
       "$\\displaystyle 7.0 \\cdot 10^{-127} + 6.0 \\cdot 10^{-129} i$"
      ],
      "text/plain": [
       "0.e-126 + 0.e-128*I"
      ]
     },
     "execution_count": 150,
     "metadata": {},
     "output_type": "execute_result"
    }
   ],
   "source": [
    "vcard_p = sympy.N( poly3_d.subs({'t': tcard_p}).subs(p_map) )\n",
    "vcard_p"
   ]
  },
  {
   "cell_type": "code",
   "execution_count": 151,
   "metadata": {},
   "outputs": [
    {
     "data": {
      "text/latex": [
       "$\\displaystyle 2.0 \\cdot 10^{-122} - 9.0 \\cdot 10^{-125} i$"
      ],
      "text/plain": [
       "0.e-122 - 0.e-124*I"
      ]
     },
     "execution_count": 151,
     "metadata": {},
     "output_type": "execute_result"
    }
   ],
   "source": [
    "vcard_n = sympy.N( poly3_d.subs({'t': tcard_n}).subs(p_map) )\n",
    "vcard_n"
   ]
  },
  {
   "cell_type": "markdown",
   "metadata": {},
   "source": [
    "## Cardano formula [link](https://brilliant.org/wiki/cardano-method/)"
   ]
  },
  {
   "cell_type": "code",
   "execution_count": null,
   "metadata": {},
   "outputs": [],
   "source": [
    "Q = (3*a*c-b**3)/(9*a**2)\n",
    "R = (9*a*b*c - 2*b**3 - 27*a**2*d)/(54*a**3)"
   ]
  },
  {
   "cell_type": "code",
   "execution_count": null,
   "metadata": {},
   "outputs": [],
   "source": [
    "S = sympy."
   ]
  },
  {
   "cell_type": "code",
   "execution_count": null,
   "metadata": {},
   "outputs": [],
   "source": [
    "sympy.N( ttrig_0.subs(p_map) )"
   ]
  },
  {
   "cell_type": "code",
   "execution_count": null,
   "metadata": {},
   "outputs": [],
   "source": [
    "sympy.N( tcard_p.subs(p_map) )"
   ]
  },
  {
   "cell_type": "code",
   "execution_count": null,
   "metadata": {},
   "outputs": [],
   "source": [
    "(3*q/p)"
   ]
  },
  {
   "cell_type": "code",
   "execution_count": null,
   "metadata": {},
   "outputs": [],
   "source": []
  }
 ],
 "metadata": {
  "kernelspec": {
   "display_name": "Python 3",
   "language": "python",
   "name": "python3"
  },
  "language_info": {
   "codemirror_mode": {
    "name": "ipython",
    "version": 3
   },
   "file_extension": ".py",
   "mimetype": "text/x-python",
   "name": "python",
   "nbconvert_exporter": "python",
   "pygments_lexer": "ipython3",
   "version": "3.8.10"
  }
 },
 "nbformat": 4,
 "nbformat_minor": 4
}
