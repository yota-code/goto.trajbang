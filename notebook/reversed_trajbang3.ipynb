{
 "cells": [
  {
   "cell_type": "markdown",
   "id": "97288a20",
   "metadata": {},
   "source": [
    "We know the Altitude gap, we know the limits and we know the distance "
   ]
  },
  {
   "cell_type": "code",
   "execution_count": null,
   "id": "dab4452e",
   "metadata": {},
   "outputs": [],
   "source": [
    "import sympy\n",
    "\n",
    "import numpy as np\n",
    "import matplotlib.pyplot as plt"
   ]
  },
  {
   "cell_type": "code",
   "execution_count": null,
   "id": "47a8a8d9",
   "metadata": {},
   "outputs": [],
   "source": [
    "Ai, Af, d, Vx = sympy.symbols(\"A_i A_f d V_x\")"
   ]
  },
  {
   "cell_type": "code",
   "execution_count": null,
   "id": "8283d492",
   "metadata": {},
   "outputs": [],
   "source": [
    "Slope = (Af - Ai) / d\n",
    "Vz = Vx * Slope\n",
    "\n",
    "Vz"
   ]
  },
  {
   "cell_type": "code",
   "execution_count": null,
   "id": "13b84161",
   "metadata": {},
   "outputs": [],
   "source": [
    "v_map = {\n",
    "    \"A_i\": 500,\n",
    "    \"A_f\": 550,\n",
    "    \"d\": 1000,\n",
    "    \"V_x\": 36\n",
    "}"
   ]
  },
  {
   "cell_type": "code",
   "execution_count": null,
   "id": "6f3fcdac",
   "metadata": {},
   "outputs": [],
   "source": [
    "float(Vz.subs(v_map))"
   ]
  },
  {
   "cell_type": "code",
   "execution_count": null,
   "id": "69621ae0",
   "metadata": {},
   "outputs": [],
   "source": [
    "t = d / Vx\n",
    "Vz = (Af - Ai) / t\n",
    "Vz"
   ]
  },
  {
   "cell_type": "code",
   "execution_count": null,
   "id": "3ef363fe",
   "metadata": {},
   "outputs": [],
   "source": [
    "def compute_sloppy_slope(x, Ai, Af, distance, corner) :\n",
    "    M = (Af - Ai) / (distance - corner)\n",
    "    if x <= corner :\n",
    "        return 0.5 * M / corner * x**2 + Ai\n",
    "    elif x <= distance - corner :\n",
    "        return 0.5 * M * corner + M * (x - corner) + Ai\n",
    "    else :\n",
    "        return Af - (0.5 * M / corner * (distance - x)**2)"
   ]
  },
  {
   "cell_type": "code",
   "execution_count": null,
   "id": "5d385c27",
   "metadata": {},
   "outputs": [],
   "source": [
    "x = np.linspace(0.0, 1000, 1024)\n",
    "y = [compute_sloppy_slope(i, 500, 550, 1000, 100) for i in x]"
   ]
  },
  {
   "cell_type": "code",
   "execution_count": null,
   "id": "f30eb0ba",
   "metadata": {},
   "outputs": [],
   "source": [
    "plt.plot(x, y)\n",
    "plt.show()"
   ]
  },
  {
   "cell_type": "code",
   "execution_count": null,
   "id": "c224df76",
   "metadata": {},
   "outputs": [],
   "source": []
  }
 ],
 "metadata": {
  "kernelspec": {
   "display_name": "Python 3 (ipykernel)",
   "language": "python",
   "name": "python3"
  },
  "language_info": {
   "codemirror_mode": {
    "name": "ipython",
    "version": 3
   },
   "file_extension": ".py",
   "mimetype": "text/x-python",
   "name": "python",
   "nbconvert_exporter": "python",
   "pygments_lexer": "ipython3",
   "version": "3.9.13"
  }
 },
 "nbformat": 4,
 "nbformat_minor": 5
}
