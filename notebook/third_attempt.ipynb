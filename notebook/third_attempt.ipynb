{
 "cells": [
  {
   "cell_type": "code",
   "execution_count": 114,
   "metadata": {},
   "outputs": [],
   "source": [
    "import math\n",
    "\n",
    "import IPython.display\n",
    "import sympy\n",
    "\n",
    "sympy.init_printing()\n",
    "\n",
    "# Jm, Am, A0, S0, Ag, Sg = sympy.symbols('J_m A_m A_0 S_0 A_g S_g', real=True)\n",
    "Jm, Am = sympy.symbols('J_m A_m', real=True, positive=True)\n",
    "A0, S0, Ag, Sg = sympy.symbols('A_0 S_0 A_g S_g', real=True, positive=True)"
   ]
  },
  {
   "cell_type": "code",
   "execution_count": 152,
   "metadata": {},
   "outputs": [],
   "source": [
    "def get_Q(A_from, A_to, J_max) :\n",
    "    # return the amount of speed taken to go from one acceleration to another, and the time it took\n",
    "    w = sympy.sign(A_to - A_from)\n",
    "    t = abs(A_to - A_from) / J_max\n",
    "    q = (A_to + A_from) * t / 2\n",
    "    return q, t, w"
   ]
  },
  {
   "cell_type": "code",
   "execution_count": 249,
   "metadata": {},
   "outputs": [],
   "source": [
    "def get_V(A_base, A_delta, W_delta, J_max) :\n",
    "    # return the amount of speed taken to make a acceleration from A_base to A_top and\n",
    "    # a deceleration to go back to the same A_base value\n",
    "    A_top = A_base + A_delta * W_delta\n",
    "    t = 2 * A_delta / J_max\n",
    "    q = (A_base + A_top) * t / 2\n",
    "    return q, t"
   ]
  },
  {
   "cell_type": "code",
   "execution_count": 140,
   "metadata": {},
   "outputs": [],
   "source": [
    "val = {'J_m': 1, 'A_m': 2, 'A_0': -1, 'A_g': -2, 'S_0': 0, 'S_g': sympy.Rational(3, 2)}\n",
    "val = {Jm: 1, Am: 2, A0: 3, S0: 0, Ag: -1, Sg: sympy.Rational(3, 2)}"
   ]
  },
  {
   "cell_type": "markdown",
   "metadata": {},
   "source": [
    "La première étape est de déterminer $Q_i$, l'aire nécessaire à la rejointe de l'accélération maximale"
   ]
  },
  {
   "cell_type": "code",
   "execution_count": 118,
   "metadata": {},
   "outputs": [
    {
     "name": "stdout",
     "output_type": "stream",
     "text": [
      "Qi = (A_0 + A_m)*Abs(A_0 - A_m)/(2*J_m) = 5/2\n",
      "Ti = Abs(A_0 - A_m)/J_m = 1\n",
      "Wi = sign(-A_0 + A_m) = -1\n"
     ]
    }
   ],
   "source": [
    "if A0.subs(val) > Am.subs(val) :\n",
    "    Qi, Ti, Wi = get_Q(A0, Am, Jm)\n",
    "    Ap = Am\n",
    "elif A0.subs(val) < -Am.subs(val) :\n",
    "    Qi, Ti, Wi = get_Q(A0, -Am, Jm)\n",
    "    Ap = -Am\n",
    "else :\n",
    "    Qi, Ti, Wi = 0, 0, 0\n",
    "    Ap = A0\n",
    "    \n",
    "print(f\"Qi = {Qi} = {Qi.subs(val)}\")\n",
    "print(f\"Ti = {Ti} = {Ti.subs(val)}\")\n",
    "print(f\"Wi = {Wi} = {Wi.subs(val)}\")"
   ]
  },
  {
   "cell_type": "markdown",
   "metadata": {},
   "source": [
    "Puis de déterminer $Q_r$, l'aire nécessaire à la rejointe de l'accélération finale $A_g$ à partir de l'accélération post initiale $A_p$"
   ]
  },
  {
   "cell_type": "code",
   "execution_count": 120,
   "metadata": {},
   "outputs": [
    {
     "name": "stdout",
     "output_type": "stream",
     "text": [
      "Qr = (A_g + A_m)*Abs(A_g - A_m)/(2*J_m) = 3/2\n",
      "Tr = Abs(A_g - A_m)/J_m = 3\n",
      "Wr = sign(A_g - A_m) = -1\n"
     ]
    }
   ],
   "source": [
    "Qr, Tr, Wr = get_Q(Ap, Ag, Jm)\n",
    "\n",
    "print(f\"Qr = {Qr} = {Qr.subs(val)}\")\n",
    "print(f\"Tr = {Tr} = {Tr.subs(val)}\")\n",
    "print(f\"Wr = {Wr} = {Wr.subs(val)}\")"
   ]
  },
  {
   "cell_type": "markdown",
   "metadata": {},
   "source": [
    "L'aire restante est donc donnée par $Q_l = S_g - S_0 - Q_i - Q_r$"
   ]
  },
  {
   "cell_type": "code",
   "execution_count": 180,
   "metadata": {},
   "outputs": [
    {
     "name": "stdout",
     "output_type": "stream",
     "text": [
      "Ql = -S_0 + S_g - (A_0 + A_m)*Abs(A_0 - A_m)/(2*J_m) - (A_g + A_m)*Abs(A_g - A_m)/(2*J_m) = -5/2\n"
     ]
    }
   ],
   "source": [
    "Ql = Sg - S0 - Qi - Qr\n",
    "print(f\"Ql = {Ql} = {Ql.subs(val)}\")"
   ]
  },
  {
   "cell_type": "markdown",
   "metadata": {},
   "source": [
    "Il faut donc combler $Q_l$ avec un triangle"
   ]
  },
  {
   "cell_type": "code",
   "execution_count": null,
   "metadata": {},
   "outputs": [],
   "source": []
  },
  {
   "cell_type": "code",
   "execution_count": 223,
   "metadata": {},
   "outputs": [
    {
     "data": {
      "image/png": "[encoded data removed]",
      "text/latex": [
       "$\\displaystyle A_{g}$"
      ],
      "text/plain": [
       "A_g"
      ]
     },
     "execution_count": 223,
     "metadata": {},
     "output_type": "execute_result"
    }
   ],
   "source": [
    "Ab = Ag if ( 0 <= Ql.subs(val) * Wr.subs(val) ) else Ap\n",
    "Ab"
   ]
  },
  {
   "cell_type": "code",
   "execution_count": 224,
   "metadata": {},
   "outputs": [
    {
     "name": "stdout",
     "output_type": "stream",
     "text": [
      "Qv = A_d*(-A_d + 2*A_g)/J_m\n",
      "Tv = 2*A_d/J_m\n",
      "Wv = -1\n"
     ]
    }
   ],
   "source": [
    "\n",
    "if 0 < Ql.subs(val) :\n",
    "    Qv, Tv, Wv = get_V(Ab, Ad, 1, Jm)\n",
    "elif Ql.subs(val) < 0 :\n",
    "    Qv, Tv, Wv = get_V(Ab, Ad, -1, Jm)\n",
    "else :\n",
    "    Qv, Tv, Wv = 0, 0, 0\n",
    "    \n",
    "print(f\"Qv = {Qv}\")\n",
    "print(f\"Tv = {Tv}\")\n",
    "print(f\"Wv = {Wv}\")"
   ]
  },
  {
   "cell_type": "markdown",
   "metadata": {},
   "source": [
    "La résolution générale pour un triangle est donnée par"
   ]
  },
  {
   "cell_type": "code",
   "execution_count": 250,
   "metadata": {},
   "outputs": [
    {
     "data": {
      "image/png": "[encoded data removed]",
      "text/latex": [
       "$\\displaystyle \\frac{A_{d} \\left(2 A_{b} + A_{d} W_{d}\\right)}{J_{m}}$"
      ],
      "text/plain": [
       "A_d⋅(2⋅A_b + A_d⋅W_d)\n",
       "─────────────────────\n",
       "          Jₘ         "
      ]
     },
     "execution_count": 250,
     "metadata": {},
     "output_type": "execute_result"
    }
   ],
   "source": [
    "Ad = sympy.symbols('A_d', real=True, positive=True)\n",
    "Ab, Wd, Qx = sympy.symbols('A_b W_d Q_x', real=True)\n",
    "\n",
    "Qv, Tv = get_V(Ab, Ad, Wd, Jm)\n",
    "Qv"
   ]
  },
  {
   "cell_type": "code",
   "execution_count": 251,
   "metadata": {},
   "outputs": [],
   "source": [
    "res = sympy.solve(sympy.Eq(Qx, Qv), Ad)"
   ]
  },
  {
   "cell_type": "code",
   "execution_count": 252,
   "metadata": {},
   "outputs": [
    {
     "data": {
      "image/png": "[encoded data removed]",
      "text/latex": [
       "$\\displaystyle \\frac{- A_{b} + \\sqrt{A_{b}^{2} + J_{m} Q_{x} W_{d}}}{W_{d}}$"
      ],
      "text/plain": [
       "          __________________\n",
       "         ╱    2             \n",
       "-A_b + ╲╱  A_b  + Jₘ⋅Qₓ⋅W_d \n",
       "────────────────────────────\n",
       "            W_d             "
      ]
     },
     "execution_count": 252,
     "metadata": {},
     "output_type": "execute_result"
    }
   ],
   "source": [
    "res[0].simplify()"
   ]
  },
  {
   "cell_type": "code",
   "execution_count": 253,
   "metadata": {},
   "outputs": [
    {
     "data": {
      "image/png": "[encoded data removed]",
      "text/latex": [
       "$\\displaystyle - \\frac{A_{b} + \\sqrt{A_{b}^{2} + J_{m} Q_{x} W_{d}}}{W_{d}}$"
      ],
      "text/plain": [
       " ⎛         __________________⎞ \n",
       " ⎜        ╱    2             ⎟ \n",
       "-⎝A_b + ╲╱  A_b  + Jₘ⋅Qₓ⋅W_d ⎠ \n",
       "───────────────────────────────\n",
       "              W_d              "
      ]
     },
     "execution_count": 253,
     "metadata": {},
     "output_type": "execute_result"
    }
   ],
   "source": [
    "res[1].simplify()"
   ]
  },
  {
   "cell_type": "code",
   "execution_count": 242,
   "metadata": {},
   "outputs": [],
   "source": [
    "cas = {\n",
    "    Ab: Ag if ( 0 <= Ql.subs(val) * Wr.subs(val) ) else Ap,\n",
    "    Wd: sympy.sign(Ql),\n",
    "    Qx: Ql,\n",
    "}"
   ]
  },
  {
   "cell_type": "code",
   "execution_count": 243,
   "metadata": {},
   "outputs": [
    {
     "data": {
      "image/png": "[encoded data removed]",
      "text/latex": [
       "$\\displaystyle - \\frac{\\sqrt{14}}{2} - 1$"
      ],
      "text/plain": [
       "  √14    \n",
       "- ─── - 1\n",
       "   2     "
      ]
     },
     "execution_count": 243,
     "metadata": {},
     "output_type": "execute_result"
    }
   ],
   "source": [
    "res[0].subs(cas).subs(val).simplify()"
   ]
  },
  {
   "cell_type": "code",
   "execution_count": 247,
   "metadata": {
    "scrolled": true
   },
   "outputs": [
    {
     "data": {
      "image/png": "[encoded data removed]",
      "text/latex": [
       "$\\displaystyle -1 + \\frac{\\sqrt{14}}{2}$"
      ],
      "text/plain": [
       "     √14\n",
       "-1 + ───\n",
       "      2 "
      ]
     },
     "execution_count": 247,
     "metadata": {},
     "output_type": "execute_result"
    }
   ],
   "source": [
    "res[1].subs(cas).subs(val).simplify()"
   ]
  },
  {
   "cell_type": "code",
   "execution_count": 37,
   "metadata": {},
   "outputs": [
    {
     "data": {
      "image/png": "[encoded data removed]",
      "text/latex": [
       "$\\displaystyle - K_{c} T_{c}^{2} + 2 T_{c} + 3$"
      ],
      "text/plain": [
       "         2            \n",
       "- K_c⋅T_c  + 2⋅T_c + 3"
      ]
     },
     "execution_count": 37,
     "metadata": {},
     "output_type": "execute_result"
    }
   ],
   "source": [
    "(Qt - Qr - 2* Qc).subs(val)"
   ]
  },
  {
   "cell_type": "code",
   "execution_count": 23,
   "metadata": {},
   "outputs": [],
   "source": [
    "tc1, tc2 = sympy.solve(Qt - Qr - 2* Qc, Tc)"
   ]
  },
  {
   "cell_type": "code",
   "execution_count": 46,
   "metadata": {},
   "outputs": [
    {
     "data": {
      "image/png": "[encoded data removed]",
      "text/latex": [
       "$\\displaystyle \\frac{- A_{0} + \\frac{\\sqrt{4 A_{0}^{2} - 2 A_{0} \\left|{A_{0} - A_{g}}\\right| - 2 A_{g} \\left|{A_{0} - A_{g}}\\right| - 4 J_{m} S_{0} + 4 J_{m} S_{g}}}{2}}{J_{m}}$"
      ],
      "text/plain": [
       "         _________________________________________________________________\n",
       "        ╱     2                                                           \n",
       "      ╲╱  4⋅A₀  - 2⋅A₀⋅│A₀ - A_g│ - 2⋅A_g⋅│A₀ - A_g│ - 4⋅Jₘ⋅S₀ + 4⋅Jₘ⋅S_g \n",
       "-A₀ + ────────────────────────────────────────────────────────────────────\n",
       "                                       2                                  \n",
       "──────────────────────────────────────────────────────────────────────────\n",
       "                                    Jₘ                                    "
      ]
     },
     "execution_count": 46,
     "metadata": {},
     "output_type": "execute_result"
    }
   ],
   "source": [
    "tc1.subs({'K_c': 1})"
   ]
  },
  {
   "cell_type": "code",
   "execution_count": 33,
   "metadata": {},
   "outputs": [
    {
     "data": {
      "image/png": "[encoded data removed]",
      "text/latex": [
       "$\\displaystyle -1$"
      ],
      "text/plain": [
       "-1"
      ]
     },
     "execution_count": 33,
     "metadata": {},
     "output_type": "execute_result"
    }
   ],
   "source": [
    "tc2.subs(val).subs({'K_c': 1})"
   ]
  },
  {
   "cell_type": "code",
   "execution_count": 28,
   "metadata": {},
   "outputs": [
    {
     "data": {
      "image/png": "[encoded data removed]",
      "text/latex": [
       "$\\displaystyle \\frac{- A_{0} + \\frac{\\sqrt{4 A_{0}^{2} - 2 A_{0} K_{c} \\left|{A_{0} - A_{g}}\\right| - 2 A_{g} K_{c} \\left|{A_{0} - A_{g}}\\right| - 4 J_{m} K_{c} S_{0} + 4 J_{m} K_{c} S_{g}}}{2}}{J_{m} K_{c}}$"
      ],
      "text/plain": [
       "         _____________________________________________________________________\n",
       "        ╱     2                                                               \n",
       "      ╲╱  4⋅A₀  - 2⋅A₀⋅K_c⋅│A₀ - A_g│ - 2⋅A_g⋅K_c⋅│A₀ - A_g│ - 4⋅Jₘ⋅K_c⋅S₀ + 4\n",
       "-A₀ + ────────────────────────────────────────────────────────────────────────\n",
       "                                               2                              \n",
       "──────────────────────────────────────────────────────────────────────────────\n",
       "                                          Jₘ⋅K_c                              \n",
       "\n",
       "____________\n",
       "            \n",
       "⋅Jₘ⋅K_c⋅S_g \n",
       "────────────\n",
       "            \n",
       "────────────\n",
       "            "
      ]
     },
     "execution_count": 28,
     "metadata": {},
     "output_type": "execute_result"
    }
   ],
   "source": [
    "tc1"
   ]
  },
  {
   "cell_type": "code",
   "execution_count": 16,
   "metadata": {},
   "outputs": [],
   "source": [
    "def get_V(Ag, Ad, k) :\n",
    "    # return the amount of speed taken to make a acceleration to Az = Ag + k* Ad and\n",
    "    # a deceleration to go back to the same value Ag\n",
    "    Az = Ag + k * Ad\n",
    "    return (Ag + Az) * (k * k * Ad) / Jm"
   ]
  },
  {
   "cell_type": "code",
   "execution_count": 17,
   "metadata": {},
   "outputs": [
    {
     "name": "stdout",
     "output_type": "stream",
     "text": [
      "raaaah A_d*k + A_g -2\n"
     ]
    },
    {
     "data": {
      "image/png": "[encoded data removed]",
      "text/latex": [
       "$\\displaystyle \\frac{A_{d} k^{2} \\left(A_{d} k + 2 A_{g}\\right)}{J_{m}} = S_{r}$"
      ],
      "text/plain": [
       "     2                     \n",
       "A_d⋅k ⋅(A_d⋅k + 2⋅A_g)     \n",
       "────────────────────── = Sᵣ\n",
       "          Jₘ               "
      ]
     },
     "execution_count": 17,
     "metadata": {},
     "output_type": "execute_result"
    }
   ],
   "source": [
    "Ad, k, Sr = sympy.symbols('A_d k S_r')\n",
    "eq = sympy.Eq(get_V(Ag, Ad, k), Sr)\n",
    "eq"
   ]
  },
  {
   "cell_type": "code",
   "execution_count": 18,
   "metadata": {},
   "outputs": [
    {
     "name": "stdout",
     "output_type": "stream",
     "text": [
      "raaaah A_d*k + A_g -2\n"
     ]
    },
    {
     "data": {
      "image/png": "[encoded data removed]",
      "text/latex": [
       "$\\displaystyle -3$"
      ],
      "text/plain": [
       "-3"
      ]
     },
     "execution_count": 18,
     "metadata": {},
     "output_type": "execute_result"
    }
   ],
   "source": [
    "get_V(Ag, Ad, k).subs({'A_g': 1, 'A_d': 3, 'k': -1, 'J_m': 1})"
   ]
  },
  {
   "cell_type": "code",
   "execution_count": 32,
   "metadata": {},
   "outputs": [
    {
     "data": {
      "image/png": "[encoded data removed]",
      "text/latex": [
       "$\\displaystyle \\left( \\frac{- A_{g} k^{2} + \\sqrt{k^{3} \\left(A_{g}^{2} k + J_{m} S_{r}\\right)}}{k^{3}}, \\  - \\frac{A_{g} k^{2} + \\sqrt{k^{3} \\left(A_{g}^{2} k + J_{m} S_{r}\\right)}}{k^{3}}\\right)$"
      ],
      "text/plain": [
       "⎛              _____________________   ⎛            _____________________⎞ ⎞\n",
       "⎜       2     ╱  3 ⎛   2          ⎞    ⎜     2     ╱  3 ⎛   2          ⎞ ⎟ ⎟\n",
       "⎜- A_g⋅k  + ╲╱  k ⋅⎝A_g ⋅k + Jₘ⋅Sᵣ⎠   -⎝A_g⋅k  + ╲╱  k ⋅⎝A_g ⋅k + Jₘ⋅Sᵣ⎠ ⎠ ⎟\n",
       "⎜───────────────────────────────────, ─────────────────────────────────────⎟\n",
       "⎜                  3                                     3                 ⎟\n",
       "⎝                 k                                     k                  ⎠"
      ]
     },
     "execution_count": 32,
     "metadata": {},
     "output_type": "execute_result"
    }
   ],
   "source": [
    "s1, s2 = sympy.solve(eq, Ad)\n",
    "s1, s2"
   ]
  },
  {
   "cell_type": "code",
   "execution_count": 33,
   "metadata": {},
   "outputs": [
    {
     "data": {
      "image/png": "[encoded data removed]",
      "text/latex": [
       "$\\displaystyle 3$"
      ],
      "text/plain": [
       "3"
      ]
     },
     "execution_count": 33,
     "metadata": {},
     "output_type": "execute_result"
    }
   ],
   "source": [
    "s1.subs({'A_g': -1, 'S_r': 3, 'J_m': 1, 'k': 1}).simplify()"
   ]
  },
  {
   "cell_type": "code",
   "execution_count": 35,
   "metadata": {},
   "outputs": [
    {
     "data": {
      "image/png": "[encoded data removed]",
      "text/latex": [
       "$\\displaystyle -1 + \\sqrt{2} i$"
      ],
      "text/plain": [
       "-1 + √2⋅ⅈ"
      ]
     },
     "execution_count": 35,
     "metadata": {},
     "output_type": "execute_result"
    }
   ],
   "source": [
    "s2.subs({'A_g': -1, 'S_r': 3, 'J_m': 1, 'k': -1}).simplify()"
   ]
  },
  {
   "cell_type": "code",
   "execution_count": 36,
   "metadata": {},
   "outputs": [
    {
     "data": {
      "image/png": "[encoded data removed]",
      "text/latex": [
       "$\\displaystyle - A_{g} + \\sqrt{A_{g}^{2} + J_{m} S_{r}}$"
      ],
      "text/plain": [
       "          ______________\n",
       "         ╱    2         \n",
       "-A_g + ╲╱  A_g  + Jₘ⋅Sᵣ "
      ]
     },
     "execution_count": 36,
     "metadata": {},
     "output_type": "execute_result"
    }
   ],
   "source": [
    "s1.subs({'k': 1}).simplify()"
   ]
  },
  {
   "cell_type": "code",
   "execution_count": 37,
   "metadata": {},
   "outputs": [
    {
     "data": {
      "image/png": "[encoded data removed]",
      "text/latex": [
       "$\\displaystyle A_{g} - \\sqrt{A_{g}^{2} - J_{m} S_{r}}$"
      ],
      "text/plain": [
       "         ______________\n",
       "        ╱    2         \n",
       "A_g - ╲╱  A_g  - Jₘ⋅Sᵣ "
      ]
     },
     "execution_count": 37,
     "metadata": {},
     "output_type": "execute_result"
    }
   ],
   "source": [
    "s1.subs({'k': -1}).simplify()"
   ]
  },
  {
   "cell_type": "code",
   "execution_count": 38,
   "metadata": {},
   "outputs": [
    {
     "data": {
      "image/png": "[encoded data removed]",
      "text/latex": [
       "$\\displaystyle - A_{g} - \\sqrt{A_{g}^{2} + J_{m} S_{r}}$"
      ],
      "text/plain": [
       "          ______________\n",
       "         ╱    2         \n",
       "-A_g - ╲╱  A_g  + Jₘ⋅Sᵣ "
      ]
     },
     "execution_count": 38,
     "metadata": {},
     "output_type": "execute_result"
    }
   ],
   "source": [
    "s2.subs({'k': 1}).simplify()"
   ]
  },
  {
   "cell_type": "code",
   "execution_count": 39,
   "metadata": {},
   "outputs": [
    {
     "data": {
      "image/png": "[encoded data removed]",
      "text/latex": [
       "$\\displaystyle A_{g} + \\sqrt{A_{g}^{2} - J_{m} S_{r}}$"
      ],
      "text/plain": [
       "         ______________\n",
       "        ╱    2         \n",
       "A_g + ╲╱  A_g  - Jₘ⋅Sᵣ "
      ]
     },
     "execution_count": 39,
     "metadata": {},
     "output_type": "execute_result"
    }
   ],
   "source": [
    "s2.subs({'k': -1}).simplify()"
   ]
  },
  {
   "cell_type": "code",
   "execution_count": null,
   "metadata": {},
   "outputs": [],
   "source": []
  }
 ],
 "metadata": {
  "kernelspec": {
   "display_name": "Python 3",
   "language": "python",
   "name": "python3"
  },
  "language_info": {
   "codemirror_mode": {
    "name": "ipython",
    "version": 3
   },
   "file_extension": ".py",
   "mimetype": "text/x-python",
   "name": "python",
   "nbconvert_exporter": "python",
   "pygments_lexer": "ipython3",
   "version": "3.8.5"
  }
 },
 "nbformat": 4,
 "nbformat_minor": 4
}
