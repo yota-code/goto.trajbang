{
 "cells": [
  {
   "cell_type": "code",
   "execution_count": 1,
   "metadata": {},
   "outputs": [],
   "source": [
    "import math\n",
    "\n",
    "import IPython.display\n",
    "import sympy\n",
    "\n",
    "sympy.init_printing()\n",
    "\n",
    "Jm, Am, A0, S0, Ag, Sg = sympy.symbols('J_m A_m A_0 S_0 A_g S_g')\n",
    "\n",
    "def get_Q(Af, At) :\n",
    "    # return the amount of speed taken to go from one acceleration to another\n",
    "    return (At + Af) * abs(At - Af) / (2 * Jm)"
   ]
  },
  {
   "cell_type": "code",
   "execution_count": 2,
   "metadata": {},
   "outputs": [],
   "source": [
    "val = {'J_m': 1, 'A_m': 2, 'A_0': -1, 'A_g': -2, 'S_0': 0, 'S_g': sympy.Rational(3, 2)}\n",
    "val = {'J_m': 1, 'A_m': 2, 'A_0': -1, 'A_g': -2, 'S_0': 0, 'S_g': sympy.Rational(3, 2)}"
   ]
  },
  {
   "cell_type": "code",
   "execution_count": 49,
   "metadata": {},
   "outputs": [
    {
     "data": {
      "image/png": "[encoded data removed]",
      "text/latex": [
       "$\\displaystyle \\left( \\frac{\\left(A_{0} + A_{g}\\right) \\left|{A_{0} - A_{g}}\\right|}{2 J_{m}}, \\  - \\frac{3}{2}\\right)$"
      ],
      "text/plain": [
       "⎛(A₀ + A_g)⋅│A₀ - A_g│      ⎞\n",
       "⎜─────────────────────, -3/2⎟\n",
       "⎝         2⋅Jₘ              ⎠"
      ]
     },
     "execution_count": 49,
     "metadata": {},
     "output_type": "execute_result"
    }
   ],
   "source": [
    "Qr = get_Q(A0, Ag)\n",
    "Qr, Qr.subs(val)"
   ]
  },
  {
   "cell_type": "code",
   "execution_count": 6,
   "metadata": {},
   "outputs": [],
   "source": [
    "Qt = Sg - S0"
   ]
  },
  {
   "cell_type": "code",
   "execution_count": 20,
   "metadata": {
    "scrolled": true
   },
   "outputs": [
    {
     "data": {
      "image/png": "[encoded data removed]",
      "text/latex": [
       "$\\displaystyle \\left( A_{0} T_{c} + \\frac{J_{m} K_{c} T_{c}^{2}}{2}, \\  \\frac{K_{c} T_{c}^{2}}{2} - T_{c}\\right)$"
      ],
      "text/plain": [
       "⎛                   2         2      ⎞\n",
       "⎜         Jₘ⋅K_c⋅T_c   K_c⋅T_c       ⎟\n",
       "⎜A₀⋅T_c + ───────────, ──────── - T_c⎟\n",
       "⎝              2          2          ⎠"
      ]
     },
     "execution_count": 20,
     "metadata": {},
     "output_type": "execute_result"
    }
   ],
   "source": [
    "Kc, Tc = sympy.symbols('K_c T_c')\n",
    "Qc = Kc * Jm * Tc**2 / 2 + A0 * Tc"
   ]
  },
  {
   "cell_type": "code",
   "execution_count": 37,
   "metadata": {},
   "outputs": [
    {
     "data": {
      "image/png": "[encoded data removed]",
      "text/latex": [
       "$\\displaystyle - K_{c} T_{c}^{2} + 2 T_{c} + 3$"
      ],
      "text/plain": [
       "         2            \n",
       "- K_c⋅T_c  + 2⋅T_c + 3"
      ]
     },
     "execution_count": 37,
     "metadata": {},
     "output_type": "execute_result"
    }
   ],
   "source": [
    "(Qt - Qr - 2* Qc).subs(val)"
   ]
  },
  {
   "cell_type": "code",
   "execution_count": 23,
   "metadata": {},
   "outputs": [],
   "source": [
    "tc1, tc2 = sympy.solve(Qt - Qr - 2* Qc, Tc)"
   ]
  },
  {
   "cell_type": "code",
   "execution_count": 46,
   "metadata": {},
   "outputs": [
    {
     "data": {
      "image/png": "[encoded data removed]",
      "text/latex": [
       "$\\displaystyle \\frac{- A_{0} + \\frac{\\sqrt{4 A_{0}^{2} - 2 A_{0} \\left|{A_{0} - A_{g}}\\right| - 2 A_{g} \\left|{A_{0} - A_{g}}\\right| - 4 J_{m} S_{0} + 4 J_{m} S_{g}}}{2}}{J_{m}}$"
      ],
      "text/plain": [
       "         _________________________________________________________________\n",
       "        ╱     2                                                           \n",
       "      ╲╱  4⋅A₀  - 2⋅A₀⋅│A₀ - A_g│ - 2⋅A_g⋅│A₀ - A_g│ - 4⋅Jₘ⋅S₀ + 4⋅Jₘ⋅S_g \n",
       "-A₀ + ────────────────────────────────────────────────────────────────────\n",
       "                                       2                                  \n",
       "──────────────────────────────────────────────────────────────────────────\n",
       "                                    Jₘ                                    "
      ]
     },
     "execution_count": 46,
     "metadata": {},
     "output_type": "execute_result"
    }
   ],
   "source": [
    "tc1.subs({'K_c': 1})"
   ]
  },
  {
   "cell_type": "code",
   "execution_count": 33,
   "metadata": {},
   "outputs": [
    {
     "data": {
      "image/png": "[encoded data removed]",
      "text/latex": [
       "$\\displaystyle -1$"
      ],
      "text/plain": [
       "-1"
      ]
     },
     "execution_count": 33,
     "metadata": {},
     "output_type": "execute_result"
    }
   ],
   "source": [
    "tc2.subs(val).subs({'K_c': 1})"
   ]
  },
  {
   "cell_type": "code",
   "execution_count": 28,
   "metadata": {},
   "outputs": [
    {
     "data": {
      "image/png": "[encoded data removed]",
      "text/latex": [
       "$\\displaystyle \\frac{- A_{0} + \\frac{\\sqrt{4 A_{0}^{2} - 2 A_{0} K_{c} \\left|{A_{0} - A_{g}}\\right| - 2 A_{g} K_{c} \\left|{A_{0} - A_{g}}\\right| - 4 J_{m} K_{c} S_{0} + 4 J_{m} K_{c} S_{g}}}{2}}{J_{m} K_{c}}$"
      ],
      "text/plain": [
       "         _____________________________________________________________________\n",
       "        ╱     2                                                               \n",
       "      ╲╱  4⋅A₀  - 2⋅A₀⋅K_c⋅│A₀ - A_g│ - 2⋅A_g⋅K_c⋅│A₀ - A_g│ - 4⋅Jₘ⋅K_c⋅S₀ + 4\n",
       "-A₀ + ────────────────────────────────────────────────────────────────────────\n",
       "                                               2                              \n",
       "──────────────────────────────────────────────────────────────────────────────\n",
       "                                          Jₘ⋅K_c                              \n",
       "\n",
       "____________\n",
       "            \n",
       "⋅Jₘ⋅K_c⋅S_g \n",
       "────────────\n",
       "            \n",
       "────────────\n",
       "            "
      ]
     },
     "execution_count": 28,
     "metadata": {},
     "output_type": "execute_result"
    }
   ],
   "source": [
    "tc1"
   ]
  },
  {
   "cell_type": "code",
   "execution_count": 16,
   "metadata": {},
   "outputs": [],
   "source": [
    "def get_V(Ag, Ad, k) :\n",
    "    # return the amount of speed taken to make a acceleration to Az = Ag + k* Ad and\n",
    "    # a deceleration to go back to the same value Ag\n",
    "    Az = Ag + k * Ad\n",
    "    return (Ag + Az) * (k * k * Ad) / Jm"
   ]
  },
  {
   "cell_type": "code",
   "execution_count": 17,
   "metadata": {},
   "outputs": [
    {
     "name": "stdout",
     "output_type": "stream",
     "text": [
      "raaaah A_d*k + A_g -2\n"
     ]
    },
    {
     "data": {
      "image/png": "[encoded data removed]",
      "text/latex": [
       "$\\displaystyle \\frac{A_{d} k^{2} \\left(A_{d} k + 2 A_{g}\\right)}{J_{m}} = S_{r}$"
      ],
      "text/plain": [
       "     2                     \n",
       "A_d⋅k ⋅(A_d⋅k + 2⋅A_g)     \n",
       "────────────────────── = Sᵣ\n",
       "          Jₘ               "
      ]
     },
     "execution_count": 17,
     "metadata": {},
     "output_type": "execute_result"
    }
   ],
   "source": [
    "Ad, k, Sr = sympy.symbols('A_d k S_r')\n",
    "eq = sympy.Eq(get_V(Ag, Ad, k), Sr)\n",
    "eq"
   ]
  },
  {
   "cell_type": "code",
   "execution_count": 18,
   "metadata": {},
   "outputs": [
    {
     "name": "stdout",
     "output_type": "stream",
     "text": [
      "raaaah A_d*k + A_g -2\n"
     ]
    },
    {
     "data": {
      "image/png": "[encoded data removed]",
      "text/latex": [
       "$\\displaystyle -3$"
      ],
      "text/plain": [
       "-3"
      ]
     },
     "execution_count": 18,
     "metadata": {},
     "output_type": "execute_result"
    }
   ],
   "source": [
    "get_V(Ag, Ad, k).subs({'A_g': 1, 'A_d': 3, 'k': -1, 'J_m': 1})"
   ]
  },
  {
   "cell_type": "code",
   "execution_count": 32,
   "metadata": {},
   "outputs": [
    {
     "data": {
      "image/png": "[encoded data removed]",
      "text/latex": [
       "$\\displaystyle \\left( \\frac{- A_{g} k^{2} + \\sqrt{k^{3} \\left(A_{g}^{2} k + J_{m} S_{r}\\right)}}{k^{3}}, \\  - \\frac{A_{g} k^{2} + \\sqrt{k^{3} \\left(A_{g}^{2} k + J_{m} S_{r}\\right)}}{k^{3}}\\right)$"
      ],
      "text/plain": [
       "⎛              _____________________   ⎛            _____________________⎞ ⎞\n",
       "⎜       2     ╱  3 ⎛   2          ⎞    ⎜     2     ╱  3 ⎛   2          ⎞ ⎟ ⎟\n",
       "⎜- A_g⋅k  + ╲╱  k ⋅⎝A_g ⋅k + Jₘ⋅Sᵣ⎠   -⎝A_g⋅k  + ╲╱  k ⋅⎝A_g ⋅k + Jₘ⋅Sᵣ⎠ ⎠ ⎟\n",
       "⎜───────────────────────────────────, ─────────────────────────────────────⎟\n",
       "⎜                  3                                     3                 ⎟\n",
       "⎝                 k                                     k                  ⎠"
      ]
     },
     "execution_count": 32,
     "metadata": {},
     "output_type": "execute_result"
    }
   ],
   "source": [
    "s1, s2 = sympy.solve(eq, Ad)\n",
    "s1, s2"
   ]
  },
  {
   "cell_type": "code",
   "execution_count": 33,
   "metadata": {},
   "outputs": [
    {
     "data": {
      "image/png": "[encoded data removed]",
      "text/latex": [
       "$\\displaystyle 3$"
      ],
      "text/plain": [
       "3"
      ]
     },
     "execution_count": 33,
     "metadata": {},
     "output_type": "execute_result"
    }
   ],
   "source": [
    "s1.subs({'A_g': -1, 'S_r': 3, 'J_m': 1, 'k': 1}).simplify()"
   ]
  },
  {
   "cell_type": "code",
   "execution_count": 35,
   "metadata": {},
   "outputs": [
    {
     "data": {
      "image/png": "[encoded data removed]",
      "text/latex": [
       "$\\displaystyle -1 + \\sqrt{2} i$"
      ],
      "text/plain": [
       "-1 + √2⋅ⅈ"
      ]
     },
     "execution_count": 35,
     "metadata": {},
     "output_type": "execute_result"
    }
   ],
   "source": [
    "s2.subs({'A_g': -1, 'S_r': 3, 'J_m': 1, 'k': -1}).simplify()"
   ]
  },
  {
   "cell_type": "code",
   "execution_count": 36,
   "metadata": {},
   "outputs": [
    {
     "data": {
      "image/png": "[encoded data removed]",
      "text/latex": [
       "$\\displaystyle - A_{g} + \\sqrt{A_{g}^{2} + J_{m} S_{r}}$"
      ],
      "text/plain": [
       "          ______________\n",
       "         ╱    2         \n",
       "-A_g + ╲╱  A_g  + Jₘ⋅Sᵣ "
      ]
     },
     "execution_count": 36,
     "metadata": {},
     "output_type": "execute_result"
    }
   ],
   "source": [
    "s1.subs({'k': 1}).simplify()"
   ]
  },
  {
   "cell_type": "code",
   "execution_count": 37,
   "metadata": {},
   "outputs": [
    {
     "data": {
      "image/png": "[encoded data removed]",
      "text/latex": [
       "$\\displaystyle A_{g} - \\sqrt{A_{g}^{2} - J_{m} S_{r}}$"
      ],
      "text/plain": [
       "         ______________\n",
       "        ╱    2         \n",
       "A_g - ╲╱  A_g  - Jₘ⋅Sᵣ "
      ]
     },
     "execution_count": 37,
     "metadata": {},
     "output_type": "execute_result"
    }
   ],
   "source": [
    "s1.subs({'k': -1}).simplify()"
   ]
  },
  {
   "cell_type": "code",
   "execution_count": 38,
   "metadata": {},
   "outputs": [
    {
     "data": {
      "image/png": "[encoded data removed]",
      "text/latex": [
       "$\\displaystyle - A_{g} - \\sqrt{A_{g}^{2} + J_{m} S_{r}}$"
      ],
      "text/plain": [
       "          ______________\n",
       "         ╱    2         \n",
       "-A_g - ╲╱  A_g  + Jₘ⋅Sᵣ "
      ]
     },
     "execution_count": 38,
     "metadata": {},
     "output_type": "execute_result"
    }
   ],
   "source": [
    "s2.subs({'k': 1}).simplify()"
   ]
  },
  {
   "cell_type": "code",
   "execution_count": 39,
   "metadata": {},
   "outputs": [
    {
     "data": {
      "image/png": "[encoded data removed]",
      "text/latex": [
       "$\\displaystyle A_{g} + \\sqrt{A_{g}^{2} - J_{m} S_{r}}$"
      ],
      "text/plain": [
       "         ______________\n",
       "        ╱    2         \n",
       "A_g + ╲╱  A_g  - Jₘ⋅Sᵣ "
      ]
     },
     "execution_count": 39,
     "metadata": {},
     "output_type": "execute_result"
    }
   ],
   "source": [
    "s2.subs({'k': -1}).simplify()"
   ]
  },
  {
   "cell_type": "code",
   "execution_count": null,
   "metadata": {},
   "outputs": [],
   "source": []
  }
 ],
 "metadata": {
  "kernelspec": {
   "display_name": "Python 3",
   "language": "python",
   "name": "python3"
  },
  "language_info": {
   "codemirror_mode": {
    "name": "ipython",
    "version": 3
   },
   "file_extension": ".py",
   "mimetype": "text/x-python",
   "name": "python",
   "nbconvert_exporter": "python",
   "pygments_lexer": "ipython3",
   "version": "3.8.5"
  }
 },
 "nbformat": 4,
 "nbformat_minor": 4
}
