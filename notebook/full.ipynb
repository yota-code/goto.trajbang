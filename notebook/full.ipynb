{
 "cells": [
  {
   "cell_type": "code",
   "execution_count": 1,
   "metadata": {},
   "outputs": [],
   "source": [
    "import math\n",
    "import sympy\n",
    "sympy.init_printing()\n",
    "\n",
    "import IPython.display\n",
    "\n",
    "def p(* s_lst) :\n",
    "    IPython.display.display(IPython.display.Math( ', '.join( sympy.latex(i) for i in s_lst ) ))\n",
    "\n",
    "import trajbang.trajbang3.full as tb3\n",
    "\n",
    "Ag, Sg, Jm, Am, Aw = sympy.symbols('A_g S_g J_m A_m A_w')"
   ]
  },
  {
   "cell_type": "markdown",
   "metadata": {},
   "source": [
    "## in one step"
   ]
  },
  {
   "cell_type": "code",
   "execution_count": 89,
   "metadata": {},
   "outputs": [],
   "source": [
    "T, J, A, S = tb3.TrajBang3.equation(1)\n",
    "u = tb3.TrajBang3(1, 2, -1.0, 0.0, 1.0, 0.0)"
   ]
  },
  {
   "cell_type": "code",
   "execution_count": 90,
   "metadata": {},
   "outputs": [
    {
     "data": {
      "image/png": "[encoded data removed]",
      "text/latex": [
       "$\\displaystyle T_{0}$"
      ],
      "text/plain": [
       "T₀"
      ]
     },
     "execution_count": 90,
     "metadata": {},
     "output_type": "execute_result"
    }
   ],
   "source": [
    "T0, = T\n",
    "J0, = J\n",
    "A0, A1 = A\n",
    "S0, S1 = S\n",
    "T0"
   ]
  },
  {
   "cell_type": "code",
   "execution_count": 116,
   "metadata": {},
   "outputs": [
    {
     "data": {
      "image/png": "[encoded data removed]",
      "text/latex": [
       "$\\displaystyle \\frac{A_{0}^{2} A_{w}^{3}}{2 J_{m}} - \\frac{A_{0}^{2} A_{w}}{J_{m}} - \\frac{A_{0} A_{g} A_{w}^{3}}{J_{m}} + \\frac{A_{0} A_{g} A_{w}}{J_{m}} + \\frac{A_{g}^{2} A_{w}^{3}}{2 J_{m}} + S_{0}$"
      ],
      "text/plain": [
       "  2    3     2                 3                   2    3     \n",
       "A₀ ⋅A_w    A₀ ⋅A_w   A₀⋅A_g⋅A_w    A₀⋅A_g⋅A_w   A_g ⋅A_w      \n",
       "──────── - ─────── - ─────────── + ────────── + ───────── + S₀\n",
       "  2⋅Jₘ        Jₘ          Jₘ           Jₘ          2⋅Jₘ       "
      ]
     },
     "execution_count": 116,
     "metadata": {},
     "output_type": "execute_result"
    }
   ],
   "source": [
    "sg_equ = S1.subs({'J_0': Aw * Jm, 'T_0': Aw * (Ag - A0)/Jm}).expand()\n",
    "sg_equ"
   ]
  },
  {
   "cell_type": "code",
   "execution_count": 123,
   "metadata": {},
   "outputs": [
    {
     "data": {
      "image/png": "[encoded data removed]",
      "text/latex": [
       "$\\displaystyle 1.0$"
      ],
      "text/plain": [
       "1.00000000000000"
      ]
     },
     "execution_count": 123,
     "metadata": {},
     "output_type": "execute_result"
    }
   ],
   "source": [
    "u = tb3.TrajBang3(1, 2, -1.0, 1.0, 1.0, 1.0)\n",
    "sg_equ.subs(u.val).subs({'A_w': 1})"
   ]
  },
  {
   "cell_type": "code",
   "execution_count": 112,
   "metadata": {},
   "outputs": [
    {
     "data": {
      "image/png": "[encoded data removed]",
      "text/latex": [
       "$\\displaystyle 1.0$"
      ],
      "text/plain": [
       "1.00000000000000"
      ]
     },
     "execution_count": 112,
     "metadata": {},
     "output_type": "execute_result"
    }
   ],
   "source": [
    "u = tb3.TrajBang3(1, 2, 1.0, 1.0, -1.0, 1.0)\n",
    "sg_equ.subs(u.val).subs({'A_w': -1})"
   ]
  },
  {
   "cell_type": "code",
   "execution_count": 113,
   "metadata": {},
   "outputs": [],
   "source": [
    "t0_res = sympy.solve(sympy.Eq(j0a, j0s), 'T_0')\n",
    "t0 = t0_res[0]"
   ]
  },
  {
   "cell_type": "code",
   "execution_count": 9,
   "metadata": {},
   "outputs": [
    {
     "data": {
      "image/png": "[encoded data removed]",
      "text/latex": [
       "$\\displaystyle \\frac{\\left(A_{0} - A_{g}\\right) \\left(A_{0} + A_{g}\\right)}{2 \\left(S_{0} - S_{g}\\right)}$"
      ],
      "text/plain": [
       "(A₀ - A_g)⋅(A₀ + A_g)\n",
       "─────────────────────\n",
       "     2⋅(S₀ - S_g)    "
      ]
     },
     "execution_count": 9,
     "metadata": {},
     "output_type": "execute_result"
    }
   ],
   "source": [
    "j0a.subs({'T_0': t0}).simplify()"
   ]
  },
  {
   "cell_type": "code",
   "execution_count": 10,
   "metadata": {},
   "outputs": [
    {
     "data": {
      "image/png": "[encoded data removed]",
      "text/latex": [
       "$\\displaystyle \\frac{A_{0}^{2} - A_{g}^{2}}{2 \\left(S_{0} - S_{g}\\right)}$"
      ],
      "text/plain": [
       "   2      2 \n",
       " A₀  - A_g  \n",
       "────────────\n",
       "2⋅(S₀ - S_g)"
      ]
     },
     "execution_count": 10,
     "metadata": {},
     "output_type": "execute_result"
    }
   ],
   "source": [
    "j0s.subs({'T_0': t0}).simplify()"
   ]
  },
  {
   "cell_type": "markdown",
   "metadata": {},
   "source": [
    "## in two steps"
   ]
  },
  {
   "cell_type": "code",
   "execution_count": 2,
   "metadata": {},
   "outputs": [],
   "source": [
    "T, J, A, S = tb3.TrajBang3.equation(2)"
   ]
  },
  {
   "cell_type": "code",
   "execution_count": 3,
   "metadata": {},
   "outputs": [],
   "source": [
    "a0, a1, a2 = A"
   ]
  },
  {
   "cell_type": "code",
   "execution_count": 4,
   "metadata": {},
   "outputs": [],
   "source": [
    "s0, s1, s2 = S"
   ]
  },
  {
   "cell_type": "code",
   "execution_count": 5,
   "metadata": {},
   "outputs": [
    {
     "data": {
      "text/plain": [
       "(None, None, None)"
      ]
     },
     "execution_count": 5,
     "metadata": {},
     "output_type": "execute_result"
    }
   ],
   "source": [
    "u = tb3.TrajBang3(1.3, 3.0, -0.6, 2.8, -2.4, 1.3)\n",
    "u.compute()"
   ]
  },
  {
   "cell_type": "code",
   "execution_count": 7,
   "metadata": {},
   "outputs": [
    {
     "data": {
      "text/latex": [
       "$\\displaystyle J_{m}, 0, \\frac{- A_{0} + A_{g}}{J_{m}}, -1.38461538461538, \\frac{\\frac{A_{0}^{2}}{2} - \\frac{A_{g}^{2}}{2} - J_{m} S_{0} + J_{m} S_{g}}{A_{g} J_{m}}, 1.49038461538462$"
      ],
      "text/plain": [
       "<IPython.core.display.Math object>"
      ]
     },
     "metadata": {},
     "output_type": "display_data"
    },
    {
     "data": {
      "text/latex": [
       "$\\displaystyle - J_{m}, 0, \\frac{A_{0} - A_{g}}{J_{m}}, 1.38461538461538, \\frac{- \\frac{A_{0}^{2}}{2} + \\frac{A_{g}^{2}}{2} - J_{m} S_{0} + J_{m} S_{g}}{A_{g} J_{m}}, -0.240384615384615$"
      ],
      "text/plain": [
       "<IPython.core.display.Math object>"
      ]
     },
     "metadata": {},
     "output_type": "display_data"
    },
    {
     "data": {
      "text/latex": [
       "$\\displaystyle J_{m}, - J_{m}, - \\frac{A_{0} + \\frac{\\sqrt{2 A_{0}^{2} + 2 A_{g}^{2} - 4 J_{m} S_{0} + 4 J_{m} S_{g}}}{2}}{J_{m}}, -0.348896442527134, - \\frac{A_{g} + \\frac{\\sqrt{2 A_{0}^{2} + 2 A_{g}^{2} - 4 J_{m} S_{0} + 4 J_{m} S_{g}}}{2}}{J_{m}}, 1.03571894208825$"
      ],
      "text/plain": [
       "<IPython.core.display.Math object>"
      ]
     },
     "metadata": {},
     "output_type": "display_data"
    },
    {
     "data": {
      "text/latex": [
       "$\\displaystyle - J_{m}, J_{m}, \\frac{A_{0} - \\frac{\\sqrt{2 A_{0}^{2} + 2 A_{g}^{2} + 4 J_{m} S_{0} - 4 J_{m} S_{g}}}{2}}{J_{m}}, -2.18330994504611, \\frac{A_{g} - \\frac{\\sqrt{2 A_{0}^{2} + 2 A_{g}^{2} + 4 J_{m} S_{0} - 4 J_{m} S_{g}}}{2}}{J_{m}}, -3.56792532966149$"
      ],
      "text/plain": [
       "<IPython.core.display.Math object>"
      ]
     },
     "metadata": {},
     "output_type": "display_data"
    },
    {
     "data": {
      "text/latex": [
       "$\\displaystyle 0, J_{m}, \\frac{\\frac{A_{0}^{2}}{2} - \\frac{A_{g}^{2}}{2} - J_{m} S_{0} + J_{m} S_{g}}{A_{0} J_{m}}, 5.96153846153846, \\frac{- A_{0} + A_{g}}{J_{m}}, -1.38461538461538$"
      ],
      "text/plain": [
       "<IPython.core.display.Math object>"
      ]
     },
     "metadata": {},
     "output_type": "display_data"
    },
    {
     "data": {
      "text/latex": [
       "$\\displaystyle 0, - J_{m}, \\frac{- \\frac{A_{0}^{2}}{2} + \\frac{A_{g}^{2}}{2} - J_{m} S_{0} + J_{m} S_{g}}{A_{0} J_{m}}, -0.961538461538461, \\frac{A_{0} - A_{g}}{J_{m}}, 1.38461538461538$"
      ],
      "text/plain": [
       "<IPython.core.display.Math object>"
      ]
     },
     "metadata": {},
     "output_type": "display_data"
    }
   ],
   "source": [
    "s = list()\n",
    "for j0, j1 in  [[Jm, 0], [-Jm, 0], [Jm, -Jm], [-Jm, Jm], [0, Jm], [0, -Jm]] :\n",
    "    s2_sub = s2.subs({'J_0': j0, 'J_1': j1})\n",
    "    a2_sub = a2.subs({'J_0': j0, 'J_1': j1})\n",
    "    t0, t1 = (i.simplify() for i in sympy.solve([sympy.Eq(a2_sub, Ag), sympy.Eq(s2_sub, Sg)], ['T_0', 'T_1'])[0])\n",
    "    p(j0, j1, t0, t0.subs(u.val), t1, t1.subs(u.val))\n",
    "    s.append([t0, t1])"
   ]
  },
  {
   "cell_type": "code",
   "execution_count": 29,
   "metadata": {},
   "outputs": [],
   "source": [
    "jm, am, a0, s0, ag, sg = u.jm, u.am, u.a0, u.s0, u.ag, u.sg\n"
   ]
  },
  {
   "cell_type": "code",
   "execution_count": 34,
   "metadata": {},
   "outputs": [
    {
     "data": {
      "image/png": "[encoded data removed]",
      "text/latex": [
       "$\\displaystyle -0.693725393319377$"
      ],
      "text/plain": [
       "-0.6937253933193772"
      ]
     },
     "execution_count": 34,
     "metadata": {},
     "output_type": "execute_result"
    }
   ],
   "source": [
    "( -a0 - math.sqrt(2*a0**2 + 2*ag**2 - 4*jm*s0 + 4*jm*sg)/2 ) / jm"
   ]
  },
  {
   "cell_type": "code",
   "execution_count": 42,
   "metadata": {},
   "outputs": [
    {
     "data": {
      "image/png": "[encoded data removed]",
      "text/latex": [
       "$\\displaystyle -0.693725393319377$"
      ],
      "text/plain": [
       "-0.6937253933193772"
      ]
     },
     "execution_count": 42,
     "metadata": {},
     "output_type": "execute_result"
    }
   ],
   "source": [
    "-( a0 + math.sqrt( (a0**2+ag**2)/2 + jm*(sg + s0)) ) / jm"
   ]
  },
  {
   "cell_type": "code",
   "execution_count": 16,
   "metadata": {},
   "outputs": [
    {
     "ename": "IndexError",
     "evalue": "list index out of range",
     "output_type": "error",
     "traceback": [
      "\u001b[0;31m---------------------------------------------------------------------------\u001b[0m",
      "\u001b[0;31mIndexError\u001b[0m                                Traceback (most recent call last)",
      "\u001b[0;32m<ipython-input-16-ddcdbbc7b6d6>\u001b[0m in \u001b[0;36m<module>\u001b[0;34m\u001b[0m\n\u001b[0;32m----> 1\u001b[0;31m \u001b[0mprint\u001b[0m\u001b[0;34m(\u001b[0m\u001b[0ms\u001b[0m\u001b[0;34m[\u001b[0m\u001b[0;36m0\u001b[0m\u001b[0;34m]\u001b[0m\u001b[0;34m[\u001b[0m\u001b[0;36m0\u001b[0m\u001b[0;34m]\u001b[0m\u001b[0;34m[\u001b[0m\u001b[0;36m0\u001b[0m\u001b[0;34m]\u001b[0m\u001b[0;34m,\u001b[0m \u001b[0ms\u001b[0m\u001b[0;34m[\u001b[0m\u001b[0;36m0\u001b[0m\u001b[0;34m]\u001b[0m\u001b[0;34m[\u001b[0m\u001b[0;36m0\u001b[0m\u001b[0;34m]\u001b[0m\u001b[0;34m[\u001b[0m\u001b[0;36m1\u001b[0m\u001b[0;34m]\u001b[0m\u001b[0;34m)\u001b[0m\u001b[0;34m\u001b[0m\u001b[0;34m\u001b[0m\u001b[0m\n\u001b[0m",
      "\u001b[0;31mIndexError\u001b[0m: list index out of range"
     ]
    }
   ],
   "source": [
    "print(s[0][0][0], s[0][0][1])"
   ]
  },
  {
   "cell_type": "code",
   "execution_count": null,
   "metadata": {},
   "outputs": [],
   "source": [
    "(s[1][0][0], s[1][0][1])"
   ]
  },
  {
   "cell_type": "code",
   "execution_count": null,
   "metadata": {},
   "outputs": [],
   "source": [
    "(s[2][0][0].simplify(), s[2][0][1].simplify())"
   ]
  },
  {
   "cell_type": "code",
   "execution_count": null,
   "metadata": {},
   "outputs": [],
   "source": [
    "(s[3][0][0].simplify(), s[3][0][1].simplify())"
   ]
  },
  {
   "cell_type": "code",
   "execution_count": null,
   "metadata": {},
   "outputs": [],
   "source": [
    "(s[4][0][0].simplify(), s[4][0][1].simplify())"
   ]
  },
  {
   "cell_type": "code",
   "execution_count": null,
   "metadata": {},
   "outputs": [],
   "source": [
    "(s[5][0][0].simplify(), s[5][0][1].simplify())"
   ]
  },
  {
   "cell_type": "code",
   "execution_count": null,
   "metadata": {},
   "outputs": [],
   "source": [
    "s[0]"
   ]
  },
  {
   "cell_type": "code",
   "execution_count": null,
   "metadata": {},
   "outputs": [],
   "source": [
    "val = u.val\n",
    "aw = 1 if 0 <= ag.subs(val) - a0.subs(val) else -1\n",
    "sw = 1 if 0 <= sg.subs(val) - s0.subs(val) else -1\n",
    "m = aw * (ag**2 - a0**2) + 2*Jm * (sg - s0)\n",
    "m, m.subs(val)"
   ]
  },
  {
   "cell_type": "markdown",
   "metadata": {},
   "source": [
    "## in Three steps"
   ]
  },
  {
   "cell_type": "code",
   "execution_count": 127,
   "metadata": {},
   "outputs": [],
   "source": [
    "T, J, A, S = tb3.TrajBang3.equation(3)"
   ]
  },
  {
   "cell_type": "code",
   "execution_count": 128,
   "metadata": {},
   "outputs": [],
   "source": [
    "T0, T1, T2 = T\n",
    "J0, J1, J2 = J\n",
    "A0, A1, A2, A3 = A\n",
    "S0, S1, S2, S3 = S"
   ]
  },
  {
   "cell_type": "code",
   "execution_count": 129,
   "metadata": {},
   "outputs": [
    {
     "data": {
      "image/png": "[encoded data removed]",
      "text/latex": [
       "$\\displaystyle \\left[ A_{0}, \\  A_{0} + J_{0} T_{0}, \\  A_{0} + J_{0} T_{0} + J_{1} T_{1}, \\  A_{0} + J_{0} T_{0} + J_{1} T_{1} + J_{2} T_{2}\\right]$"
      ],
      "text/plain": [
       "[A₀, A₀ + J₀⋅T₀, A₀ + J₀⋅T₀ + J₁⋅T₁, A₀ + J₀⋅T₀ + J₁⋅T₁ + J₂⋅T₂]"
      ]
     },
     "execution_count": 129,
     "metadata": {},
     "output_type": "execute_result"
    }
   ],
   "source": [
    "Sw = sympy.sign(Am - A0)\n",
    "t0 = (Am - A0) / Jm"
   ]
  },
  {
   "cell_type": "code",
   "execution_count": 130,
   "metadata": {},
   "outputs": [
    {
     "data": {
      "image/png": "[encoded data removed]",
      "text/latex": [
       "$\\displaystyle A_{0} T_{0} + \\frac{J_{0} T_{0}^{2}}{2} + S_{0}$"
      ],
      "text/plain": [
       "             2     \n",
       "        J₀⋅T₀      \n",
       "A₀⋅T₀ + ────── + S₀\n",
       "          2        "
      ]
     },
     "execution_count": 130,
     "metadata": {},
     "output_type": "execute_result"
    }
   ],
   "source": [
    "S1"
   ]
  },
  {
   "cell_type": "code",
   "execution_count": 133,
   "metadata": {},
   "outputs": [
    {
     "data": {
      "image/png": "[encoded data removed]",
      "text/latex": [
       "$\\displaystyle A_{0} T_{2} + J_{0} T_{0} T_{2} + J_{1} T_{1} T_{2} + \\frac{J_{2} T_{2}^{2}}{2}$"
      ],
      "text/plain": [
       "                                   2\n",
       "                              J₂⋅T₂ \n",
       "A₀⋅T₂ + J₀⋅T₀⋅T₂ + J₁⋅T₁⋅T₂ + ──────\n",
       "                                2   "
      ]
     },
     "execution_count": 133,
     "metadata": {},
     "output_type": "execute_result"
    }
   ],
   "source": [
    "(S3 - S2).expand()"
   ]
  },
  {
   "cell_type": "code",
   "execution_count": 134,
   "metadata": {},
   "outputs": [
    {
     "data": {
      "image/png": "[encoded data removed]",
      "text/latex": [
       "$\\displaystyle \\frac{J_{1} T_{1}^{2}}{2} + T_{1} \\left(A_{0} + J_{0} T_{0}\\right)$"
      ],
      "text/plain": [
       "     2                  \n",
       "J₁⋅T₁                   \n",
       "────── + T₁⋅(A₀ + J₀⋅T₀)\n",
       "  2                     "
      ]
     },
     "execution_count": 134,
     "metadata": {},
     "output_type": "execute_result"
    }
   ],
   "source": [
    "S2 - S1"
   ]
  },
  {
   "cell_type": "code",
   "execution_count": null,
   "metadata": {},
   "outputs": [],
   "source": []
  }
 ],
 "metadata": {
  "kernelspec": {
   "display_name": "Python 3",
   "language": "python",
   "name": "python3"
  },
  "language_info": {
   "codemirror_mode": {
    "name": "ipython",
    "version": 3
   },
   "file_extension": ".py",
   "mimetype": "text/x-python",
   "name": "python",
   "nbconvert_exporter": "python",
   "pygments_lexer": "ipython3",
   "version": "3.8.5"
  }
 },
 "nbformat": 4,
 "nbformat_minor": 2
}
