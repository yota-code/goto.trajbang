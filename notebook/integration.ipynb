{
 "cells": [
  {
   "cell_type": "code",
   "execution_count": null,
   "metadata": {},
   "outputs": [],
   "source": [
    "%matplotlib notebook\n",
    "\n",
    "import sympy\n",
    "import numpy as np\n",
    "import matplotlib.pyplot as plt\n",
    "\n",
    "n = 3\n",
    "t = sympy.symbols('t')\n",
    "\n",
    "J_lst = sympy.symbols(' '.join(f\"J_{i}\" for i in range(n)))\n",
    "T_lst = sympy.symbols(' '.join(f\"T_{i}\" for i in range(n)))"
   ]
  },
  {
   "cell_type": "code",
   "execution_count": null,
   "metadata": {},
   "outputs": [],
   "source": [
    "A_lst = [sympy.symbols('A_0'),]\n",
    "a_lst = list()\n",
    "for i in range(n) :\n",
    "    A_lst.append(\n",
    "        A_lst[-1] +\n",
    "        J_lst[i] * T_lst[i]\n",
    "    )\n",
    "    a_lst.append(A_lst[i] + sympy.integrate(J_lst[i], t))"
   ]
  },
  {
   "cell_type": "code",
   "execution_count": null,
   "metadata": {},
   "outputs": [],
   "source": [
    "S_lst = [sympy.symbols('S_0'),]\n",
    "s_lst = list()\n",
    "for i in range(n) :\n",
    "    S_lst.append(\n",
    "        S_lst[-1] +\n",
    "        J_lst[i] * T_lst[i]**2 / 2 +\n",
    "        A_lst[i] * T_lst[i]\n",
    "    )\n",
    "    s_lst.append(S_lst[i] + sympy.integrate(a_lst[i], t))"
   ]
  },
  {
   "cell_type": "code",
   "execution_count": null,
   "metadata": {},
   "outputs": [],
   "source": [
    "P_lst = [sympy.symbols('P_0'),]\n",
    "p_lst = list()\n",
    "for i in range(n) :\n",
    "    P_lst.append(\n",
    "        P_lst[-1] +\n",
    "        J_lst[i] * T_lst[i]**3 / 6 +\n",
    "        A_lst[i] * T_lst[i]**2 / 2 +\n",
    "        S_lst[i] * T_lst[i]\n",
    "    )\n",
    "    p_lst.append(P_lst[i] + sympy.integrate(s_lst[i], t))"
   ]
  },
  {
   "cell_type": "code",
   "execution_count": null,
   "metadata": {},
   "outputs": [],
   "source": [
    "def plot(T_lst, x_lst, v_map) :\n",
    "    X_lst = list()\n",
    "    Y_lst = list()\n",
    "    \n",
    "    T_prev = 0.0\n",
    "    plt.figure()\n",
    "    for T, x in zip(T_lst, x_lst) :\n",
    "        T_stop = float(T.subs(v_map))\n",
    "        t_arr = np.linspace(0, T_stop, 16)\n",
    "        y_lst = list()\n",
    "        x_itm = x.subs(v_map)\n",
    "        for t in t_arr :\n",
    "            y_lst.append(float(x_itm.subs({'t': t})))\n",
    "        X_lst.append(T_prev + t_arr)\n",
    "        Y_lst.append(np.array(y_lst))\n",
    "        plt.plot(X_lst[-1], Y_lst[-1])\n",
    "        T_prev += T_stop\n",
    "        \n",
    "    plt.show()\n",
    "    return X_lst, Y_lst"
   ]
  },
  {
   "cell_type": "code",
   "execution_count": null,
   "metadata": {},
   "outputs": [],
   "source": [
    "v_map = {\n",
    "    'A_0': 0, 'S_0': 12, 'P_0': 0,\n",
    "    'J_0': -1, 'J_1': 0, 'J_2': 1,\n",
    "    'T_0': 2, 'T_1': 3, 'T_2': 2,\n",
    "}"
   ]
  },
  {
   "cell_type": "code",
   "execution_count": null,
   "metadata": {},
   "outputs": [],
   "source": [
    "[p.subs(v_map) for p in p_lst]"
   ]
  },
  {
   "cell_type": "code",
   "execution_count": null,
   "metadata": {},
   "outputs": [],
   "source": [
    "Xa_lst, Ya_lst = plot(T_lst, a_lst, v_map)"
   ]
  },
  {
   "cell_type": "code",
   "execution_count": null,
   "metadata": {},
   "outputs": [],
   "source": [
    "Xs_lst, Ys_lst = plot(T_lst, s_lst, v_map)"
   ]
  },
  {
   "cell_type": "code",
   "execution_count": null,
   "metadata": {},
   "outputs": [],
   "source": [
    "Xp_lst, Yp_lst = plot(T_lst, p_lst, v_map)"
   ]
  },
  {
   "cell_type": "code",
   "execution_count": null,
   "metadata": {},
   "outputs": [],
   "source": [
    "plt.figure()\n",
    "for Ys, Yp in zip(Ys_lst, Yp_lst) :\n",
    "    plt.plot(Yp, Ys)\n",
    "plt.show()"
   ]
  }
 ],
 "metadata": {
  "kernelspec": {
   "display_name": "Python 3",
   "language": "python",
   "name": "python3"
  },
  "language_info": {
   "codemirror_mode": {
    "name": "ipython",
    "version": 3
   },
   "file_extension": ".py",
   "mimetype": "text/x-python",
   "name": "python",
   "nbconvert_exporter": "python",
   "pygments_lexer": "ipython3",
   "version": "3.8.10"
  }
 },
 "nbformat": 4,
 "nbformat_minor": 4
}
