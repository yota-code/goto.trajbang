{
 "cells": [
  {
   "cell_type": "code",
   "execution_count": 1,
   "metadata": {},
   "outputs": [],
   "source": [
    "import math\n",
    "\n",
    "import IPython.display\n",
    "import sympy\n",
    "\n",
    "sympy.init_printing()\n",
    "\n",
    "Jm, Am, A0, S0, Sg = sympy.symbols('J_m A_m A_0 S_0 S_g')\n",
    "\n",
    "def equation(n) :\n",
    "\n",
    "    T = list()\n",
    "    J = list()\n",
    "    A = [sympy.symbols('A_0'),]\n",
    "    S = [sympy.symbols('S_0'),]\n",
    "    \n",
    "    for i in range(n) :\n",
    "        T.append(sympy.symbols(f\"T_{i}\"))\n",
    "        J.append(sympy.symbols(f\"J_{i}\"))\n",
    "        A.append( (A[-1] + J[i] * T[i]).simplify() )\n",
    "        S.append( (S[-1] + A[i] * T[i] + J[i] * T[i]**2 / 2).simplify() )\n",
    "       \n",
    "    return T, J, A, S\n",
    "\n",
    "def dbg(* e_lst) :\n",
    "    IPython.display.display(\n",
    "        IPython.display.Math(' = '.join(\n",
    "            (\n",
    "                str(e) if isinstance(e, str) else sympy.latex(e)\n",
    "            ) for e in e_lst ))\n",
    "    )"
   ]
  },
  {
   "cell_type": "code",
   "execution_count": 2,
   "metadata": {},
   "outputs": [],
   "source": [
    "def test(jm, am, a0, s0, sg) :\n",
    "    val = { 'J_m': jm, 'A_m': am, 'A_0': a0, 'S_0': s0, 'S_g': sg }\n",
    "    cmd, dur, bch = compute(** val)\n",
    "    \n",
    "    n = len(dur)\n",
    "    T, J, A, S = equation(n)\n",
    "    \n",
    "    par = dict()\n",
    "    for i in range(n) :\n",
    "        par[f\"T_{i}\"] = dur[i]\n",
    "        par[f\"J_{i}\"] = cmd[i] * Jm\n",
    "        \n",
    "    def f(e) :\n",
    "        try :\n",
    "            return float(e.subs(par).subs(val))\n",
    "        except AttributeError :\n",
    "            return e\n",
    "        \n",
    "    def s(e) :\n",
    "        try :\n",
    "            return e.simplify()\n",
    "        except AttributeError :\n",
    "            return e\n",
    "        \n",
    "    def n(a, b) :\n",
    "        return math.isclose(f(a), f(b), rel_tol=1e-5, abs_tol=1e-5)\n",
    "\n",
    "    dbg(\"\\mathrm{cmd}\", [s(i) for i in cmd], [f(i) for i in cmd])\n",
    "    dbg(\"\\mathrm{dur}\", [s(i) for i in dur], [f(i) for i in dur])\n",
    "    sg_tst = S[-1].subs(par).subs(val).simplify()\n",
    "    dbg(\"S_g\", S[-1], S[-1].subs(par).simplify(), sg_tst)\n",
    "    ag_tst = A[-1].subs(par).subs(val).simplify()\n",
    "    dbg(\"A_g\", A[-1], A[-1].subs(par).simplify(), ag_tst)\n",
    "    \n",
    "    print(bch, n(sg_tst, sg), n(ag_tst, 0.0), all((0 < d.subs(val)) for d in dur))"
   ]
  },
  {
   "cell_type": "code",
   "execution_count": 30,
   "metadata": {},
   "outputs": [],
   "source": [
    "def compute(** val) :\n",
    "    Ws = 1 if 0.0 <= (Sg - S0).subs(val) else -1\n",
    "    \n",
    "    m = 2*Jm*abs(Sg - S0)\n",
    "\n",
    "    # in 1 step\n",
    "    Au = sympy.sqrt(m)\n",
    "    if A0.subs(val) == Ws*Au.subs(val) :\n",
    "        Ta1 = Au / Jm\n",
    "        return [ -Ws, ], [ Ta1, ], \"A\"\n",
    "\n",
    "    q = sympy.sqrt(2)*Jm\n",
    "\n",
    "    # in 2 steps\n",
    "    d = (A0**2 / 2) + Ws*Jm*(Sg - S0)\n",
    "    dbg('d', d, d.subs(val), float(d.subs(val)))\n",
    "\n",
    "    A1a = sympy.sqrt(d)\n",
    "    A1b = -sympy.sqrt(d)\n",
    "    dbg('A_1^a', A1a, A1a.subs(val), float(A1a.subs(val)))\n",
    "    dbg('A_1^b', A1b, A1b.subs(val), float(A1b.subs(val)))\n",
    "\n",
    "    S2a = (-A0 + A1a)/(Jm*k)\n",
    "    S2b = (-A0 + A1b)/(Jm*k)\n",
    "\n",
    "    dbg('S_2^a', S2a, S2a.subs(val))\n",
    "    dbg('S_2^b', S2b, S2b.subs(val))\n",
    "\n",
    "\n",
    "    Tb2 = sympy.sqrt(A0**2 + m) / q\n",
    "    Tb1 = Tb2 - Ws*A0/Jm\n",
    "    Av = abs(A0 + Ws*Tb1*Jm)\n",
    "    # dbg(Av.subs(val), Am.subs(val))\n",
    "    #if Av.subs(val) < Am.subs(val) :\n",
    "    return [ Ws, -Ws ], [ Tb1, Tb2 ], \"B\"\n",
    "\n",
    "    Wa = 1 if 0.0 <= (A0).subs(val) else -1\n",
    "\n",
    "    Sn = Wa*A0**2 / (2*Jm)\n",
    "    Sd = Sg - S0\n",
    "    Sc = Sd - Sn\n",
    "\n",
    "    Wr = 1 if 0.0 <= (Sc * Sn).subs(val) else -1\n",
    "\n",
    "    # in 3 steps\n",
    "    Tc1 = Am - Wr*abs(A0) / Jm\n",
    "    Tc2 = (A0**2 - 2*Am**2 + m) / (2*Am*Jm)\n",
    "    Tc3 = (Am / Jm)\n",
    "    return [ Wa*Wr, 0, -Wa*Wr ], [ Tc1, Tc2, Tc3 ], \"C\""
   ]
  },
  {
   "cell_type": "code",
   "execution_count": 31,
   "metadata": {},
   "outputs": [
    {
     "data": {
      "text/latex": [
       "$\\displaystyle d = \\frac{A_{0}^{2}}{2} - J_{m} \\left(- S_{0} + S_{g}\\right) = - \\frac{7}{2} = -3.5$"
      ],
      "text/plain": [
       "<IPython.core.display.Math object>"
      ]
     },
     "metadata": {},
     "output_type": "display_data"
    },
    {
     "ename": "TypeError",
     "evalue": "can't convert complex to float",
     "output_type": "error",
     "traceback": [
      "\u001b[0;31m---------------------------------------------------------------------------\u001b[0m",
      "\u001b[0;31mTypeError\u001b[0m                                 Traceback (most recent call last)",
      "\u001b[0;32m<ipython-input-31-2f541c3f9789>\u001b[0m in \u001b[0;36m<module>\u001b[0;34m\u001b[0m\n\u001b[0;32m----> 1\u001b[0;31m \u001b[0mtest\u001b[0m\u001b[0;34m(\u001b[0m\u001b[0;36m1\u001b[0m\u001b[0;34m,\u001b[0m \u001b[0;36m2\u001b[0m\u001b[0;34m,\u001b[0m \u001b[0;36m3\u001b[0m\u001b[0;34m,\u001b[0m \u001b[0;34m-\u001b[0m\u001b[0;36m2\u001b[0m\u001b[0;34m,\u001b[0m \u001b[0;36m6\u001b[0m\u001b[0;34m)\u001b[0m\u001b[0;34m\u001b[0m\u001b[0;34m\u001b[0m\u001b[0m\n\u001b[0m",
      "\u001b[0;32m<ipython-input-2-3785dff8eee8>\u001b[0m in \u001b[0;36mtest\u001b[0;34m(jm, am, a0, s0, sg)\u001b[0m\n\u001b[1;32m      1\u001b[0m \u001b[0;32mdef\u001b[0m \u001b[0mtest\u001b[0m\u001b[0;34m(\u001b[0m\u001b[0mjm\u001b[0m\u001b[0;34m,\u001b[0m \u001b[0mam\u001b[0m\u001b[0;34m,\u001b[0m \u001b[0ma0\u001b[0m\u001b[0;34m,\u001b[0m \u001b[0ms0\u001b[0m\u001b[0;34m,\u001b[0m \u001b[0msg\u001b[0m\u001b[0;34m)\u001b[0m \u001b[0;34m:\u001b[0m\u001b[0;34m\u001b[0m\u001b[0;34m\u001b[0m\u001b[0m\n\u001b[1;32m      2\u001b[0m     \u001b[0mval\u001b[0m \u001b[0;34m=\u001b[0m \u001b[0;34m{\u001b[0m \u001b[0;34m'J_m'\u001b[0m\u001b[0;34m:\u001b[0m \u001b[0mjm\u001b[0m\u001b[0;34m,\u001b[0m \u001b[0;34m'A_m'\u001b[0m\u001b[0;34m:\u001b[0m \u001b[0mam\u001b[0m\u001b[0;34m,\u001b[0m \u001b[0;34m'A_0'\u001b[0m\u001b[0;34m:\u001b[0m \u001b[0ma0\u001b[0m\u001b[0;34m,\u001b[0m \u001b[0;34m'S_0'\u001b[0m\u001b[0;34m:\u001b[0m \u001b[0ms0\u001b[0m\u001b[0;34m,\u001b[0m \u001b[0;34m'S_g'\u001b[0m\u001b[0;34m:\u001b[0m \u001b[0msg\u001b[0m \u001b[0;34m}\u001b[0m\u001b[0;34m\u001b[0m\u001b[0;34m\u001b[0m\u001b[0m\n\u001b[0;32m----> 3\u001b[0;31m     \u001b[0mcmd\u001b[0m\u001b[0;34m,\u001b[0m \u001b[0mdur\u001b[0m\u001b[0;34m,\u001b[0m \u001b[0mbch\u001b[0m \u001b[0;34m=\u001b[0m \u001b[0mcompute\u001b[0m\u001b[0;34m(\u001b[0m\u001b[0;34m**\u001b[0m \u001b[0mval\u001b[0m\u001b[0;34m)\u001b[0m\u001b[0;34m\u001b[0m\u001b[0;34m\u001b[0m\u001b[0m\n\u001b[0m\u001b[1;32m      4\u001b[0m \u001b[0;34m\u001b[0m\u001b[0m\n\u001b[1;32m      5\u001b[0m     \u001b[0mn\u001b[0m \u001b[0;34m=\u001b[0m \u001b[0mlen\u001b[0m\u001b[0;34m(\u001b[0m\u001b[0mdur\u001b[0m\u001b[0;34m)\u001b[0m\u001b[0;34m\u001b[0m\u001b[0;34m\u001b[0m\u001b[0m\n",
      "\u001b[0;32m<ipython-input-30-fc24454f9fda>\u001b[0m in \u001b[0;36mcompute\u001b[0;34m(**val)\u001b[0m\n\u001b[1;32m     19\u001b[0m     \u001b[0mA1a\u001b[0m \u001b[0;34m=\u001b[0m \u001b[0msympy\u001b[0m\u001b[0;34m.\u001b[0m\u001b[0msqrt\u001b[0m\u001b[0;34m(\u001b[0m\u001b[0md\u001b[0m\u001b[0;34m)\u001b[0m\u001b[0;34m\u001b[0m\u001b[0;34m\u001b[0m\u001b[0m\n\u001b[1;32m     20\u001b[0m     \u001b[0mA1b\u001b[0m \u001b[0;34m=\u001b[0m \u001b[0;34m-\u001b[0m\u001b[0msympy\u001b[0m\u001b[0;34m.\u001b[0m\u001b[0msqrt\u001b[0m\u001b[0;34m(\u001b[0m\u001b[0md\u001b[0m\u001b[0;34m)\u001b[0m\u001b[0;34m\u001b[0m\u001b[0;34m\u001b[0m\u001b[0m\n\u001b[0;32m---> 21\u001b[0;31m     \u001b[0mdbg\u001b[0m\u001b[0;34m(\u001b[0m\u001b[0;34m'A_1^a'\u001b[0m\u001b[0;34m,\u001b[0m \u001b[0mA1a\u001b[0m\u001b[0;34m,\u001b[0m \u001b[0mA1a\u001b[0m\u001b[0;34m.\u001b[0m\u001b[0msubs\u001b[0m\u001b[0;34m(\u001b[0m\u001b[0mval\u001b[0m\u001b[0;34m)\u001b[0m\u001b[0;34m,\u001b[0m \u001b[0mfloat\u001b[0m\u001b[0;34m(\u001b[0m\u001b[0mA1a\u001b[0m\u001b[0;34m.\u001b[0m\u001b[0msubs\u001b[0m\u001b[0;34m(\u001b[0m\u001b[0mval\u001b[0m\u001b[0;34m)\u001b[0m\u001b[0;34m)\u001b[0m\u001b[0;34m)\u001b[0m\u001b[0;34m\u001b[0m\u001b[0;34m\u001b[0m\u001b[0m\n\u001b[0m\u001b[1;32m     22\u001b[0m     \u001b[0mdbg\u001b[0m\u001b[0;34m(\u001b[0m\u001b[0;34m'A_1^b'\u001b[0m\u001b[0;34m,\u001b[0m \u001b[0mA1b\u001b[0m\u001b[0;34m,\u001b[0m \u001b[0mA1b\u001b[0m\u001b[0;34m.\u001b[0m\u001b[0msubs\u001b[0m\u001b[0;34m(\u001b[0m\u001b[0mval\u001b[0m\u001b[0;34m)\u001b[0m\u001b[0;34m,\u001b[0m \u001b[0mfloat\u001b[0m\u001b[0;34m(\u001b[0m\u001b[0mA1b\u001b[0m\u001b[0;34m.\u001b[0m\u001b[0msubs\u001b[0m\u001b[0;34m(\u001b[0m\u001b[0mval\u001b[0m\u001b[0;34m)\u001b[0m\u001b[0;34m)\u001b[0m\u001b[0;34m)\u001b[0m\u001b[0;34m\u001b[0m\u001b[0;34m\u001b[0m\u001b[0m\n\u001b[1;32m     23\u001b[0m \u001b[0;34m\u001b[0m\u001b[0m\n",
      "\u001b[0;32m/usr/local/lib/python3.8/dist-packages/sympy/core/expr.py\u001b[0m in \u001b[0;36m__float__\u001b[0;34m(self)\u001b[0m\n\u001b[1;32m    347\u001b[0m             \u001b[0;32mreturn\u001b[0m \u001b[0mfloat\u001b[0m\u001b[0;34m(\u001b[0m\u001b[0mresult\u001b[0m\u001b[0;34m)\u001b[0m\u001b[0;34m\u001b[0m\u001b[0;34m\u001b[0m\u001b[0m\n\u001b[1;32m    348\u001b[0m         \u001b[0;32mif\u001b[0m \u001b[0mresult\u001b[0m\u001b[0;34m.\u001b[0m\u001b[0mis_number\u001b[0m \u001b[0;32mand\u001b[0m \u001b[0mresult\u001b[0m\u001b[0;34m.\u001b[0m\u001b[0mas_real_imag\u001b[0m\u001b[0;34m(\u001b[0m\u001b[0;34m)\u001b[0m\u001b[0;34m[\u001b[0m\u001b[0;36m1\u001b[0m\u001b[0;34m]\u001b[0m\u001b[0;34m:\u001b[0m\u001b[0;34m\u001b[0m\u001b[0;34m\u001b[0m\u001b[0m\n\u001b[0;32m--> 349\u001b[0;31m             \u001b[0;32mraise\u001b[0m \u001b[0mTypeError\u001b[0m\u001b[0;34m(\u001b[0m\u001b[0;34m\"can't convert complex to float\"\u001b[0m\u001b[0;34m)\u001b[0m\u001b[0;34m\u001b[0m\u001b[0;34m\u001b[0m\u001b[0m\n\u001b[0m\u001b[1;32m    350\u001b[0m         \u001b[0;32mraise\u001b[0m \u001b[0mTypeError\u001b[0m\u001b[0;34m(\u001b[0m\u001b[0;34m\"can't convert expression to float\"\u001b[0m\u001b[0;34m)\u001b[0m\u001b[0;34m\u001b[0m\u001b[0;34m\u001b[0m\u001b[0m\n\u001b[1;32m    351\u001b[0m \u001b[0;34m\u001b[0m\u001b[0m\n",
      "\u001b[0;31mTypeError\u001b[0m: can't convert complex to float"
     ]
    }
   ],
   "source": [
    "test(1, 2, 3, -2, 6)"
   ]
  },
  {
   "cell_type": "code",
   "execution_count": 35,
   "metadata": {},
   "outputs": [
    {
     "ename": "NameError",
     "evalue": "name 'val' is not defined",
     "output_type": "error",
     "traceback": [
      "\u001b[0;31m---------------------------------------------------------------------------\u001b[0m",
      "\u001b[0;31mNameError\u001b[0m                                 Traceback (most recent call last)",
      "\u001b[0;32m<ipython-input-35-62a2c9dda399>\u001b[0m in \u001b[0;36m<module>\u001b[0;34m\u001b[0m\n\u001b[1;32m      1\u001b[0m \u001b[0mT0p\u001b[0m \u001b[0;34m=\u001b[0m \u001b[0;34m(\u001b[0m\u001b[0msympy\u001b[0m\u001b[0;34m.\u001b[0m\u001b[0msqrt\u001b[0m\u001b[0;34m(\u001b[0m\u001b[0;36m4\u001b[0m\u001b[0;34m*\u001b[0m\u001b[0mA0\u001b[0m\u001b[0;34m**\u001b[0m\u001b[0;36m2\u001b[0m \u001b[0;34m+\u001b[0m \u001b[0;36m4\u001b[0m\u001b[0;34m*\u001b[0m\u001b[0mJm\u001b[0m\u001b[0;34m*\u001b[0m\u001b[0mabs\u001b[0m\u001b[0;34m(\u001b[0m\u001b[0mA0\u001b[0m\u001b[0;34m*\u001b[0m\u001b[0mabs\u001b[0m\u001b[0;34m(\u001b[0m\u001b[0mA0\u001b[0m\u001b[0;34m)\u001b[0m\u001b[0;34m/\u001b[0m\u001b[0;34m(\u001b[0m\u001b[0;36m2\u001b[0m\u001b[0;34m*\u001b[0m\u001b[0mJm\u001b[0m\u001b[0;34m)\u001b[0m \u001b[0;34m+\u001b[0m \u001b[0mS0\u001b[0m \u001b[0;34m-\u001b[0m \u001b[0mSg\u001b[0m\u001b[0;34m)\u001b[0m\u001b[0;34m)\u001b[0m \u001b[0;34m-\u001b[0m \u001b[0;36m2\u001b[0m\u001b[0;34m*\u001b[0m\u001b[0mabs\u001b[0m\u001b[0;34m(\u001b[0m\u001b[0mA0\u001b[0m\u001b[0;34m)\u001b[0m\u001b[0;34m)\u001b[0m\u001b[0;34m/\u001b[0m\u001b[0;34m(\u001b[0m\u001b[0;36m2\u001b[0m\u001b[0;34m*\u001b[0m\u001b[0mJm\u001b[0m\u001b[0;34m)\u001b[0m\u001b[0;34m\u001b[0m\u001b[0;34m\u001b[0m\u001b[0m\n\u001b[0;32m----> 2\u001b[0;31m \u001b[0mdbg\u001b[0m\u001b[0;34m(\u001b[0m\u001b[0;34m'T_0^p'\u001b[0m\u001b[0;34m,\u001b[0m \u001b[0mT0p\u001b[0m\u001b[0;34m,\u001b[0m \u001b[0mT0p\u001b[0m\u001b[0;34m.\u001b[0m\u001b[0msubs\u001b[0m\u001b[0;34m(\u001b[0m\u001b[0mval\u001b[0m\u001b[0;34m)\u001b[0m\u001b[0;34m)\u001b[0m\u001b[0;34m\u001b[0m\u001b[0;34m\u001b[0m\u001b[0m\n\u001b[0m",
      "\u001b[0;31mNameError\u001b[0m: name 'val' is not defined"
     ]
    }
   ],
   "source": []
  },
  {
   "cell_type": "code",
   "execution_count": 27,
   "metadata": {},
   "outputs": [
    {
     "data": {
      "text/latex": [
       "$\\displaystyle \\mathrm{cmd} = \\left[ -1\\right] = \\left[ -1\\right]$"
      ],
      "text/plain": [
       "<IPython.core.display.Math object>"
      ]
     },
     "metadata": {},
     "output_type": "display_data"
    },
    {
     "data": {
      "text/latex": [
       "$\\displaystyle \\mathrm{dur} = \\left[ \\frac{\\sqrt{2} \\sqrt{\\left|{S_{0} - S_{g}}\\right|}}{\\sqrt{J_{m}}}\\right] = \\left[ 1.0\\right]$"
      ],
      "text/plain": [
       "<IPython.core.display.Math object>"
      ]
     },
     "metadata": {},
     "output_type": "display_data"
    },
    {
     "data": {
      "text/latex": [
       "$\\displaystyle S_g = A_{0} T_{0} + \\frac{J_{0} T_{0}^{2}}{2} + S_{0} = \\frac{\\sqrt{2} A_{0} \\sqrt{\\left|{S_{0} - S_{g}}\\right|}}{\\sqrt{J_{m}}} + S_{0} - \\left|{S_{0} - S_{g}}\\right| = 0$"
      ],
      "text/plain": [
       "<IPython.core.display.Math object>"
      ]
     },
     "metadata": {},
     "output_type": "display_data"
    },
    {
     "data": {
      "text/latex": [
       "$\\displaystyle A_g = A_{0} + J_{0} T_{0} = A_{0} - \\sqrt{2} \\sqrt{J_{m}} \\sqrt{\\left|{S_{0} - S_{g}}\\right|} = 0$"
      ],
      "text/plain": [
       "<IPython.core.display.Math object>"
      ]
     },
     "metadata": {},
     "output_type": "display_data"
    },
    {
     "name": "stdout",
     "output_type": "stream",
     "text": [
      "A True True True\n"
     ]
    }
   ],
   "source": [
    "test(1, 1, 1, -sympy.Rational(1, 2), 0)"
   ]
  },
  {
   "cell_type": "code",
   "execution_count": null,
   "metadata": {},
   "outputs": [],
   "source": []
  },
  {
   "cell_type": "code",
   "execution_count": null,
   "metadata": {},
   "outputs": [],
   "source": []
  }
 ],
 "metadata": {
  "kernelspec": {
   "display_name": "Python 3",
   "language": "python",
   "name": "python3"
  },
  "language_info": {
   "codemirror_mode": {
    "name": "ipython",
    "version": 3
   },
   "file_extension": ".py",
   "mimetype": "text/x-python",
   "name": "python",
   "nbconvert_exporter": "python",
   "pygments_lexer": "ipython3",
   "version": "3.8.5"
  }
 },
 "nbformat": 4,
 "nbformat_minor": 4
}
